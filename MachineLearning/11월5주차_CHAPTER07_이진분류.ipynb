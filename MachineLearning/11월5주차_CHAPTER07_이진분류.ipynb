{
  "nbformat": 4,
  "nbformat_minor": 0,
  "metadata": {
    "colab": {
      "name": "11월5주차_CHAPTER07_이진분류.ipynb",
      "provenance": [],
      "authorship_tag": "ABX9TyOe6rGMFVrV+mRqvmvplKTj",
      "include_colab_link": true
    },
    "kernelspec": {
      "name": "python3",
      "display_name": "Python 3"
    },
    "language_info": {
      "name": "python"
    }
  },
  "cells": [
    {
      "cell_type": "markdown",
      "metadata": {
        "id": "view-in-github",
        "colab_type": "text"
      },
      "source": [
        "<a href=\"https://colab.research.google.com/github/2pterons/training/blob/main/MachineLearning/11%EC%9B%945%EC%A3%BC%EC%B0%A8_CHAPTER07_%EC%9D%B4%EC%A7%84%EB%B6%84%EB%A5%98.ipynb\" target=\"_parent\"><img src=\"https://colab.research.google.com/assets/colab-badge.svg\" alt=\"Open In Colab\"/></a>"
      ]
    },
    {
      "cell_type": "code",
      "metadata": {
        "id": "4ZDdFwdSr_YG"
      },
      "source": [
        "input_num = int(input()) \n",
        "numbers = list(map(int, input().split())) \n",
        "numbers.sort() \n",
        "\n",
        "input_num2 = int(input()) \n",
        "numbers2 = list(map(int, input().split())) \n",
        "\n",
        "for num in numbers2: \n",
        "  left, right = 0, \n",
        "  len(numbers) - 1 \n",
        "\n",
        "  is_find = False \n",
        "\n",
        "  while True: \n",
        "    median = (left + right) // 2 \n",
        "    if num == numbers[median]: \n",
        "      print(1) \n",
        "      is_find = True \n",
        "      break \n",
        "    elif num > numbers[median]: \n",
        "      left = median + 1 \n",
        "    elif num < numbers[median]: \n",
        "      right = median - 1 \n",
        "      \n",
        "    if left > right: \n",
        "      break \n",
        "  if not is_find: print(0)\n"
      ],
      "execution_count": null,
      "outputs": []
    },
    {
      "cell_type": "code",
      "metadata": {
        "id": "Ve5xa-52ssC7"
      },
      "source": [
        "# 숫자카드2\n",
        "\n",
        "N = int(input())\n",
        "cards = list(map(int, input().split()))\n",
        "cards.sort()\n",
        "cardDic = {}\n",
        "\n",
        "for c in cards:\n",
        "  if c not in cardsDic:\n",
        "    cardsDic[c] = 1\n",
        "  else:\n",
        "    cardsDic[c] += 1\n",
        "\n",
        "M = int(input())\n",
        "nums = list(map(int, input().split()))\n",
        "\n",
        "for n in nums:\n",
        "  start = 0\n",
        "  end = N-1\n",
        "\n",
        "  while start <= end:\n",
        "    mid = (start+end)//2\n",
        "\n",
        "    if cards[mid] == m:\n",
        "      break\n",
        "\n",
        "    if cards[mid] > n:\n",
        "      end = mid - 1\n",
        "    else:\n",
        "      start = mid+1\n",
        "  if cards[mid] == n:\n",
        "    print(cardsDic[n], end=\" \")\n",
        "  else:\n",
        "    print(0, end=\" \")"
      ],
      "execution_count": null,
      "outputs": []
    },
    {
      "cell_type": "code",
      "metadata": {
        "id": "Ravff6WVtdTq"
      },
      "source": [
        "# 공유기 설치\n",
        "n, c = map(int, input().split())\n",
        "\n",
        "array = []\n",
        "for i in range(n):\n",
        "    array.append(int(input()))\n",
        "\n",
        "array.sort()\n",
        "\n",
        "\n",
        "def binary_search(array, start, end):\n",
        "    while start <= end:\n",
        "        mid = (start + end) // 2\n",
        "        current = array[0]\n",
        "        count = 1\n",
        "\n",
        "        for i in range(1, len(array)):\n",
        "            if array[i] >= current + mid:\n",
        "                count += 1\n",
        "                current = array[i]\n",
        "\n",
        "        if count >= c:\n",
        "            global answer\n",
        "            start = mid + 1\n",
        "            answer = mid\n",
        "        else:\n",
        "            end = mid - 1\n",
        "\n",
        "\n",
        "start = 1\n",
        "end = array[-1] - array[0]\n",
        "answer = 0\n",
        "\n",
        "binary_search(array, start, end)\n",
        "print(answer)"
      ],
      "execution_count": null,
      "outputs": []
    }
  ]
}