{
  "nbformat": 4,
  "nbformat_minor": 0,
  "metadata": {
    "colab": {
      "name": "2-1. 지도 학습과 비지도 학습.ipynb",
      "provenance": [],
      "authorship_tag": "ABX9TyOT8vwAQl8bVzO3aL9l2Xwt",
      "include_colab_link": true
    },
    "kernelspec": {
      "name": "python3",
      "display_name": "Python 3"
    },
    "language_info": {
      "name": "python"
    }
  },
  "cells": [
    {
      "cell_type": "markdown",
      "metadata": {
        "id": "view-in-github",
        "colab_type": "text"
      },
      "source": [
        "<a href=\"https://colab.research.google.com/github/2pterons/training/blob/main/MachineLearning/2_1_%EC%A7%80%EB%8F%84_%ED%95%99%EC%8A%B5%EA%B3%BC_%EB%B9%84%EC%A7%80%EB%8F%84_%ED%95%99%EC%8A%B5.ipynb\" target=\"_parent\"><img src=\"https://colab.research.google.com/assets/colab-badge.svg\" alt=\"Open In Colab\"/></a>"
      ]
    },
    {
      "cell_type": "code",
      "metadata": {
        "id": "PQmGthMu6aq8"
      },
      "source": [
        "from sklearn.neighbors import KNeghborsClassifier\n",
        "kn = KNeighborsClassifier()\n",
        "kn.fit(fish_data, )"
      ],
      "execution_count": null,
      "outputs": []
    }
  ]
}