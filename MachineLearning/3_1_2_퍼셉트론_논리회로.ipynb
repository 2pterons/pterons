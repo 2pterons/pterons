{
  "nbformat": 4,
  "nbformat_minor": 0,
  "metadata": {
    "colab": {
      "name": "3-1-2. 퍼셉트론_논리회로.ipynb",
      "provenance": [],
      "authorship_tag": "ABX9TyP8an655e4JwrS0HUn6PdWB",
      "include_colab_link": true
    },
    "kernelspec": {
      "name": "python3",
      "display_name": "Python 3"
    },
    "language_info": {
      "name": "python"
    }
  },
  "cells": [
    {
      "cell_type": "markdown",
      "metadata": {
        "id": "view-in-github",
        "colab_type": "text"
      },
      "source": [
        "<a href=\"https://colab.research.google.com/github/2pterons/training/blob/main/MachineLearning/3_1_2_%ED%8D%BC%EC%85%89%ED%8A%B8%EB%A1%A0_%EB%85%BC%EB%A6%AC%ED%9A%8C%EB%A1%9C.ipynb\" target=\"_parent\"><img src=\"https://colab.research.google.com/assets/colab-badge.svg\" alt=\"Open In Colab\"/></a>"
      ]
    },
    {
      "cell_type": "code",
      "metadata": {
        "id": "GqPY6HdEvpSt"
      },
      "source": [
        ""
      ],
      "execution_count": null,
      "outputs": []
    },
    {
      "cell_type": "markdown",
      "metadata": {
        "id": "8vvXHwB_vp3a"
      },
      "source": [
        "### 1. AND 게이트\n",
        "\n",
        "AND 게이트의 진리표는 다음과 같다.\n",
        "\n",
        "이를 퍼셉트론으로 구현하기 위해서는 해당 input에 대한 output이 나오도록 w1, w2, θ 값을 정해야 한다. 이를 만족하는 (w1, w2, θ)의 조합은 (0.5, 0.5, 0.7), (0.5, 0.5, 0.8), (1,1,1) 등 무수히 많다.\n",
        "\n",
        "1.1 이를 파이썬에서 perceptron으로 구현하면 다음과 같다.\n",
        "\n",
        "```python\n",
        "def AND(x1, x2):\n",
        "\tw1, w2, theta = 0.5, 0.5, 0.7\n",
        "\ttmp = x1*w1 + x2*w2\n",
        "\tif tmp <= theta :\n",
        "\t\treturn 0\n",
        "\telse :\n",
        "\t\treturn 1\n",
        "```"
      ]
    },
    {
      "cell_type": "code",
      "metadata": {
        "id": "uYarepyevtS8"
      },
      "source": [
        ""
      ],
      "execution_count": null,
      "outputs": []
    }
  ]
}