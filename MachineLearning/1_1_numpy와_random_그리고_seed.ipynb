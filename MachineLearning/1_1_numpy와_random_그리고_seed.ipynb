{
  "nbformat": 4,
  "nbformat_minor": 0,
  "metadata": {
    "colab": {
      "name": "1-1. numpy와 random 그리고 seed.ipynb",
      "provenance": [],
      "collapsed_sections": [],
      "authorship_tag": "ABX9TyOocF/a7HYs88ehLKikpIh2",
      "include_colab_link": true
    },
    "kernelspec": {
      "name": "python3",
      "display_name": "Python 3"
    },
    "language_info": {
      "name": "python"
    }
  },
  "cells": [
    {
      "cell_type": "markdown",
      "metadata": {
        "id": "view-in-github",
        "colab_type": "text"
      },
      "source": [
        "<a href=\"https://colab.research.google.com/github/2pterons/training/blob/main/MachineLearning/1_1_numpy%EC%99%80_random_%EA%B7%B8%EB%A6%AC%EA%B3%A0_seed.ipynb\" target=\"_parent\"><img src=\"https://colab.research.google.com/assets/colab-badge.svg\" alt=\"Open In Colab\"/></a>"
      ]
    },
    {
      "cell_type": "markdown",
      "metadata": {
        "id": "5uWjSh5Nk6CT"
      },
      "source": [
        "<br/><br/>\n",
        "# np.random.RandomState(seed)를 이용한 난수 생성\n",
        "- 일반적으로 numpy를 이용해서 random number(난수)를 생성하는 방법은, ```np.random.random()```임.\n",
        "- 하지만, ```np.random.RandomState(seed)```를 이용해서 관련 method가 정의된 객체를 선언 및 정의하여 사용할 수도 있음.\n",
        "<br/>\n",
        "\n",
        "### Way 1: np.random.random()Permalink\n",
        "기존의 방법은 다음과 같다. 사실, 이 방법도 딱히 큰 문제는 없다"
      ]
    },
    {
      "cell_type": "code",
      "metadata": {
        "colab": {
          "base_uri": "https://localhost:8080/"
        },
        "id": "d-I1jrpUkQvA",
        "outputId": "a63c5262-c0fb-4984-fe46-dc8d0f729626"
      },
      "source": [
        "import numpy as np \n",
        "# 일단 seed 값을 지정하고, \n",
        "np.random.seed(seed=0) \n",
        "# np.random에 있는 함수에 직접 접근 하여 random number를 생성. \n",
        "new_random_number = np.random.random(size=3)\n",
        "new_random_number"
      ],
      "execution_count": null,
      "outputs": [
        {
          "output_type": "execute_result",
          "data": {
            "text/plain": [
              "array([0.5488135 , 0.71518937, 0.60276338])"
            ]
          },
          "metadata": {},
          "execution_count": 14
        }
      ]
    },
    {
      "cell_type": "code",
      "metadata": {
        "colab": {
          "base_uri": "https://localhost:8080/"
        },
        "id": "OrpRbYkBmGnu",
        "outputId": "e283c483-c461-4170-de8d-ec25d0d9c697"
      },
      "source": [
        "new_random_number"
      ],
      "execution_count": null,
      "outputs": [
        {
          "output_type": "execute_result",
          "data": {
            "text/plain": [
              "array([0.5488135 , 0.71518937, 0.60276338])"
            ]
          },
          "metadata": {},
          "execution_count": 15
        }
      ]
    },
    {
      "cell_type": "markdown",
      "metadata": {
        "id": "baIxG1rhk-7-"
      },
      "source": [
        "### Way 2: np.random.RandomState()Permalink\n",
        "- 기존의 방법에서는 ```numpy```에 존재하는 random generator에 직접 접근하여, 난수를 생성했다면, 여기서는 __난수생성기__라는 object를 새로 만들어준다고 생각하면 됩니다.\n",
        "- 즉, 특정 seed를 가지는 ```np.random.RandomState()```를 만들어주고, 여기서부터 이 object에 접근하여 난수를 생성해주는 것이죠. 즉 별 차이는 없습니다."
      ]
    },
    {
      "cell_type": "code",
      "metadata": {
        "colab": {
          "base_uri": "https://localhost:8080/"
        },
        "id": "tcZdVb0VkR4V",
        "outputId": "595673cd-af16-44a2-c79d-56348d9035fa"
      },
      "source": [
        "RandomGenerator = np.random.RandomState(seed=0)\n",
        "new_random_number = RandomGenerator.random(size=1)\n",
        "new_random_number"
      ],
      "execution_count": null,
      "outputs": [
        {
          "output_type": "execute_result",
          "data": {
            "text/plain": [
              "array([0.5488135])"
            ]
          },
          "metadata": {},
          "execution_count": 18
        }
      ]
    },
    {
      "cell_type": "code",
      "metadata": {
        "colab": {
          "base_uri": "https://localhost:8080/"
        },
        "id": "HsXgjCTRgbKP",
        "outputId": "41aa0184-3ce3-4c57-ae07-b62f79dfaae2"
      },
      "source": [
        "new_random_number"
      ],
      "execution_count": null,
      "outputs": [
        {
          "output_type": "execute_result",
          "data": {
            "text/plain": [
              "array([0.5488135])"
            ]
          },
          "metadata": {},
          "execution_count": 19
        }
      ]
    },
    {
      "cell_type": "markdown",
      "metadata": {
        "id": "axYdoqA5mOOR"
      },
      "source": [
        "### Difference: Global and local.Permalink\n",
        "- 이 차이는 오히려, 난수를 생성할 때, 재생산성(reproducibility)를 확인하기 위해서 seed를 어떻게 먹일 것인가? 와 연관이 있습니다(참고: 같은 seed를 세팅하면 같은 값이 순서대로 나옴)\n",
        "- ```np.random.seed(seed=10)```를 사용해서 seed를 세팅할 경우에는 개별적으로 seed를 세팅할 수 없습니다.\n",
        "- numpy에 있는 global한 ```seed```를 바꾸는 것이기 때문에, 다른 함수에서 다시 seed를 새롭게 설정할 경우, 함수 외부에서 생성하는 random에도 영향을 미치게 됩니다.\n",
        "- 아래의 코드를 보시면 다음 두 경우에 완전히 똑같은 결과를 보이는 것을 알 수 있습니다. 1) 함수 밖에서 Seed를 세팅하고 난수 4개 뽑음: 2) 함수 안에서 Seed를 세팅하고 난수 2개 그리고 밖에서 seed를 변경하지 않고 2개 뽑아서 합침."
      ]
    },
    {
      "cell_type": "code",
      "metadata": {
        "colab": {
          "base_uri": "https://localhost:8080/"
        },
        "id": "OXdNxA_0mDwq",
        "outputId": "5c8db9d5-970a-40e8-b0ea-2c3b91016b15"
      },
      "source": [
        "import numpy as np\n",
        "\"\"\"\n",
        "np.random.seed(SEED) 로 random을 생성하게 될 경우, \n",
        "\"\"\"\n",
        "def random_int_gen_with_global_seed(size=10, seed=0):\n",
        "    np.random.seed(seed)\n",
        "    return np.random.random(size=size)\n",
        "\n",
        "np.random.seed(3)\n",
        "# seed를 3으로 세팅하고, random number를 2개 뽑습니다.\n",
        "A = list(np.random.random(size=4))\n",
        "\n",
        "# random_int_gen_with_global_seed 내에서\n",
        "# 같은 seed를 세팅하고, random number를 2개 뽑고.\n",
        "# 함수 밖에서, seed를 세팅하지 않고, 2개를 더 뽑아서 합칩니다.\n",
        "# 즉, 함수 안에서 반을, 함수 밖에서 반을 뽑는 것이죠.\n",
        "B = list(random_int_gen_with_global_seed(2, seed=3))\n",
        "B += list(np.random.random(size=2))\n",
        "\n",
        "# 그리고, A, B를 비교해보면 완전히 같은 것을 알 수 있습니다. \n",
        "# 즉, 함수 내에서 np.random.seed() 를 실행하여 seed를 새롭게 설정하면, \n",
        "# 함수 밖에서도 seed가 다시 세팅된다는 것이죠.\n",
        "print(\"==\"*30)\n",
        "print(f\"A: {A}\")\n",
        "print(f\"B: {B}\")\n",
        "assert A==B\n",
        "print(\"==\" * 30)"
      ],
      "execution_count": null,
      "outputs": [
        {
          "output_type": "stream",
          "name": "stdout",
          "text": [
            "============================================================\n",
            "A: [0.5507979025745755, 0.7081478226181048, 0.2909047389129443, 0.510827605197663]\n",
            "B: [0.5507979025745755, 0.7081478226181048, 0.2909047389129443, 0.510827605197663]\n",
            "============================================================\n"
          ]
        }
      ]
    },
    {
      "cell_type": "markdown",
      "metadata": {
        "id": "iOQoKidWnZMe"
      },
      "source": [
        "- 위에서 보시는 것처럼, np.random.seed()를 통해 seed를 변경할 경우, 전역변수처럼 모든 코드의 영역에 영향을 끼치게 됩니다. 그리고, 이는 같은 프로젝트에서 다른 코드파일에서 해당 numpy를 사용한다고 해도 딱히 달라지지 않아요.  \n",
        "- 사실, 어떻게 생각하면 “별 문제 아니야”라고 생각할 수도 있는데, 약간의 불안함이 남아있게 되죠.  \n",
        "- 따라서, 저는 ```np.random.RandomState()```를 사용해서, seed를 localization하여 사용하는 것이 훨씬 효과적인 것 같아요. 개별적으로 seed를 localization하여 사용하므로, 외부의 seed에 영향을 미치지 않습니다.\n",
        "- 이렇게 설정할 경우, seed를 개별적으로 두고, 필요에 따라서 분리하여 사용할 수 있다는 것을 의미하죠.\n",
        "- 아래의 코드에서는 다음 두 가지 경우를 비교하였으며, 결과가 같은 것을 알 수 있습니다. 1) 함수 밖에서 gloabl Seed를 세팅하고 난수 4개 뽑고, 함수 실행 후에 난수 2개를 뽑아서 합침: 2) 함수 안에서 local Seed를 세팅하고 난수 6개를 뽑음."
      ]
    },
    {
      "cell_type": "code",
      "metadata": {
        "colab": {
          "base_uri": "https://localhost:8080/"
        },
        "id": "QU3QR9ymnM8N",
        "outputId": "475531b8-d63d-4e3e-9369-ca82ace83f19"
      },
      "source": [
        "import numpy as np\n",
        "\"\"\"\n",
        "np.random.seed(SEED) 로 random을 생성하게 될 경우, \n",
        "\"\"\"\n",
        "def random_int_gen_with_local_seed(size=10, seed=0):\n",
        "    # 내부에 같은 seed를 지정해준 random generator object를 만들고\n",
        "    # 이 객체의 method를 통해 난수를 생성한다.\n",
        "    # 이렇게 할 경우, 전체 seed에 영향을 미치지 않으므로 효과적으로 random number를 뽑을 수있다.\n",
        "    Rand = np.random.RandomState(seed=seed)\n",
        "    return Rand.random(size=size)\n",
        "\n",
        "# global seed를 3으로 설정하고\n",
        "# 4개의 수를 뽑습니다.\n",
        "np.random.seed(3)\n",
        "global_seed3_num1234 = np.random.random(size=4)\n",
        "\n",
        "# 함수내에서 사용하는 local seed도 seed를 동일하게 설정하고, 6개의 수를 뽑습니다.\n",
        "local_seed3_num123456 = random_int_gen_with_local_seed(6, seed=3)\n",
        "\n",
        "# global seed에서 수를 2개 더 뽑습니다.\n",
        "global_seed3_num56 = np.random.random(size=2)\n",
        "\n",
        "global_seed3_num123456 = list(global_seed3_num1234) + list(global_seed3_num56)\n",
        "global_seed3_num123456 = np.array(global_seed3_num123456)\n",
        "\n",
        "# 결과를 보면, global seed에서 4개, 2개를 뽑아서 합친 값과 \n",
        "# local seed에서 6개를 뽑아낸 값이 같은 것을 알 수 있습니다. \n",
        "# 즉, local에서의 seed 변화가, 외부에 영향을 끼치지 않은 것이죠.\n",
        "print(\"==\"*30)\n",
        "print(f\"global seed num: {global_seed3_num123456}\")\n",
        "print(f\"local  seed num: {local_seed3_num123456}\")\n",
        "print(\"==\"*30)"
      ],
      "execution_count": null,
      "outputs": [
        {
          "output_type": "stream",
          "name": "stdout",
          "text": [
            "============================================================\n",
            "global seed num: [0.5507979  0.70814782 0.29090474 0.51082761 0.89294695 0.89629309]\n",
            "local  seed num: [0.5507979  0.70814782 0.29090474 0.51082761 0.89294695 0.89629309]\n",
            "============================================================\n"
          ]
        }
      ]
    },
    {
      "cell_type": "markdown",
      "metadata": {
        "id": "n3-Yt7xNnuaq"
      },
      "source": [
        "- global seed에서 4개, 2개를 뽑아서 합친 값과 local seed에서 6개를 뽑아낸 값이 같은 것을 알 수 있습니다. 즉, local에서의 seed 변화가, 외부에 영향을 끼치지 않은 것이죠.\n",
        "- 이전에 시뮬레이션 분석을 수행했는데, 그 당시에, random 생성을 위한 seed를 global하게 세팅하여 꽤 어려움을 겪었습니다. 이걸 알았다면, 사실 좀 더 쉽게 함수들을 디자인해서, random을 효율적으로 컨트롤했을텐데, 라는 아쉬움이 있네요.\n",
        "- 또한, 이 난수 생성에 대해서 더 자세하게 알기 위해서는 seed가 뭐고 어떻게 영향을 미치는뎨? 라는 것을 아시는 것이 좋습니다만, 정신건강을 위해, 일단은 그걸 모르시는게 더 편할 수 있습니다. 호호. 이거는 제가 다음에 시간이 조금 있을 때 추가작성하도록 할게요."
      ]
    },
    {
      "cell_type": "markdown",
      "metadata": {
        "id": "5rNp_NHpo263"
      },
      "source": [
        "<br/><br/>\n",
        "# TEST"
      ]
    },
    {
      "cell_type": "code",
      "metadata": {
        "colab": {
          "base_uri": "https://localhost:8080/"
        },
        "id": "GMGCqakxns2I",
        "outputId": "22e699b9-3935-459b-9bde-fd123dbf4749"
      },
      "source": [
        "import numpy as np\n",
        "\n",
        "np.random.seed(0)\n",
        "a = np.random.random(size=2)\n",
        "a"
      ],
      "execution_count": null,
      "outputs": [
        {
          "output_type": "execute_result",
          "data": {
            "text/plain": [
              "array([0.5488135 , 0.71518937])"
            ]
          },
          "metadata": {},
          "execution_count": 36
        }
      ]
    },
    {
      "cell_type": "code",
      "metadata": {
        "colab": {
          "base_uri": "https://localhost:8080/"
        },
        "id": "J695WQuFpHBE",
        "outputId": "f54b8587-69de-4a5d-f4b1-b16de23544cf"
      },
      "source": [
        "b = np.random.random(size=2)\n",
        "b"
      ],
      "execution_count": null,
      "outputs": [
        {
          "output_type": "execute_result",
          "data": {
            "text/plain": [
              "array([0.60276338, 0.54488318])"
            ]
          },
          "metadata": {},
          "execution_count": 37
        }
      ]
    },
    {
      "cell_type": "code",
      "metadata": {
        "colab": {
          "base_uri": "https://localhost:8080/"
        },
        "id": "Wj-fAqECpUjD",
        "outputId": "c64b9736-f100-4cdb-9790-2040e539897f"
      },
      "source": [
        "np.random.seed(1)\n",
        "c = np.random.random(size=2)\n",
        "c"
      ],
      "execution_count": null,
      "outputs": [
        {
          "output_type": "execute_result",
          "data": {
            "text/plain": [
              "array([0.417022  , 0.72032449])"
            ]
          },
          "metadata": {},
          "execution_count": 38
        }
      ]
    },
    {
      "cell_type": "code",
      "metadata": {
        "colab": {
          "base_uri": "https://localhost:8080/"
        },
        "id": "sIpOAda0pZcI",
        "outputId": "6d35cad1-0cf2-4157-8495-f5ddbbd775b7"
      },
      "source": [
        "np.random.seed(0)\n",
        "d = np.random.random(size=2)\n",
        "d"
      ],
      "execution_count": null,
      "outputs": [
        {
          "output_type": "execute_result",
          "data": {
            "text/plain": [
              "array([0.5488135 , 0.71518937])"
            ]
          },
          "metadata": {},
          "execution_count": 39
        }
      ]
    },
    {
      "cell_type": "code",
      "metadata": {
        "colab": {
          "base_uri": "https://localhost:8080/"
        },
        "id": "W0MdAfYmpeJ_",
        "outputId": "eea83161-b231-42eb-b8f1-404e13c16f4b"
      },
      "source": [
        "np.random.seed(2)\n",
        "e = np.random.random(size=2)\n",
        "e"
      ],
      "execution_count": null,
      "outputs": [
        {
          "output_type": "execute_result",
          "data": {
            "text/plain": [
              "array([0.4359949 , 0.02592623])"
            ]
          },
          "metadata": {},
          "execution_count": 42
        }
      ]
    },
    {
      "cell_type": "code",
      "metadata": {
        "colab": {
          "base_uri": "https://localhost:8080/"
        },
        "id": "F8y9b6Ldpp6R",
        "outputId": "db62be9d-2443-460c-9afb-0f099b3a42f1"
      },
      "source": [
        "np.random.seed(1)\n",
        "f = np.random.random(size=2)\n",
        "f"
      ],
      "execution_count": null,
      "outputs": [
        {
          "output_type": "execute_result",
          "data": {
            "text/plain": [
              "array([0.417022  , 0.72032449])"
            ]
          },
          "metadata": {},
          "execution_count": 43
        }
      ]
    },
    {
      "cell_type": "code",
      "metadata": {
        "id": "shzehocbprDJ"
      },
      "source": [
        ""
      ],
      "execution_count": null,
      "outputs": []
    }
  ]
}