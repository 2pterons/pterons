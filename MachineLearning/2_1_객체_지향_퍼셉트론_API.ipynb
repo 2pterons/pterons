{
  "nbformat": 4,
  "nbformat_minor": 0,
  "metadata": {
    "colab": {
      "name": "2-1. 객체 지향 퍼셉트론 API.ipynb",
      "provenance": [],
      "collapsed_sections": [],
      "authorship_tag": "ABX9TyNHE7ov+aYC2879+Xpoytiq",
      "include_colab_link": true
    },
    "kernelspec": {
      "name": "python3",
      "display_name": "Python 3"
    },
    "language_info": {
      "name": "python"
    }
  },
  "cells": [
    {
      "cell_type": "markdown",
      "metadata": {
        "id": "view-in-github",
        "colab_type": "text"
      },
      "source": [
        "<a href=\"https://colab.research.google.com/github/2pterons/training/blob/main/MachineLearning/2_1_%EA%B0%9D%EC%B2%B4_%EC%A7%80%ED%96%A5_%ED%8D%BC%EC%85%89%ED%8A%B8%EB%A1%A0_API.ipynb\" target=\"_parent\"><img src=\"https://colab.research.google.com/assets/colab-badge.svg\" alt=\"Open In Colab\"/></a>"
      ]
    },
    {
      "cell_type": "code",
      "metadata": {
        "id": "8YUNRQz2oui-"
      },
      "source": [
        "import numpy as np\n",
        "\n",
        "\n",
        "class Perceptron(object):\n",
        "  \"\"\"퍼셉트론 분류기\n",
        "\n",
        "  매개변수\n",
        "  ------------------\n",
        "  eta : float\n",
        "    학습률 (0.0과 1.0 사이)\n",
        "  n_iter : int\n",
        "    훈련 데이터셋 반복 횟수\n",
        "  random_state : int\n",
        "    가중치 무작위 초기화를 위한 난수 생성기 시드\n",
        "\n",
        "  속성\n",
        "  -----------------\n",
        "  w_ : 1d-array\n",
        "    학습된 가중치\n",
        "  errors_ : list\n",
        "    에포크마다 누적된 분류 오류\n",
        "  \"\"\"\n",
        "\n",
        "  def __init__(self, eta=0.01, n_iter=50, random_state=1):\n",
        "    self.eta = eta\n",
        "    self.n_iter = n_iter\n",
        "    self.random_state = random_state\n",
        "\n",
        "  def fit(self, X, y):\n",
        "    \"\"\"훈련 데이터 학습\n",
        "\n",
        "    매개변수\n",
        "    ----------------\n",
        "    X : {array-like}, shape = [n_samples, n_features]\n",
        "      n_samples개의 샘플과 n_features개의 특성으로 이루어진 훈련 데이터\n",
        "    y : array-like, shape = [n_samples]\n",
        "      타깃값\n",
        "\n",
        "    반환값\n",
        "    ---------\n",
        "    self : object\n",
        "    \"\"\"\n",
        "    rgen = np.random.RandomState(self.random_state)\n",
        "    self.w_ = rgen.normal(loc=0.0, scale=0.01,\n",
        "                          size=1 + X.shape[1])\n",
        "    self.errors_ = []\n",
        "\n",
        "    for _ in range(self.n_iter):\n",
        "      errors = 0\n",
        "      for xi, target in zip(X, y):\n",
        "        update = self.eta * (target - self.predict(xi))\n",
        "        self.w_[1:] += update * xi\n",
        "        self.w_[0] += update\n",
        "        errors += int(update != 0.0)\n",
        "      self.errors_.append(errors)\n",
        "    return self\n",
        "\n",
        "    def net_input(self, X):\n",
        "      \"\"\"입력계산\"\"\"\n",
        "      return np.dot(X, self.w_[1:]) + self.w_[0]\n",
        "\n",
        "    def predict(self, X):\n",
        "      \"\"\"단위 계단 함수를 사용하여 클래스 레이블을 반환합니다.\"\"\"\n",
        "      return np.where(self.net_input(X) >= 0.0, 1, -1)"
      ],
      "execution_count": null,
      "outputs": []
    },
    {
      "cell_type": "code",
      "metadata": {
        "id": "_HeE4erEp1Ne"
      },
      "source": [
        ""
      ],
      "execution_count": null,
      "outputs": []
    }
  ]
}