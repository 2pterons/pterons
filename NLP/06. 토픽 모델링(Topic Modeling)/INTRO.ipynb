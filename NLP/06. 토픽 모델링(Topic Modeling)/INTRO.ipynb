{
  "nbformat": 4,
  "nbformat_minor": 0,
  "metadata": {
    "colab": {
      "name": "INTRO.ipynb",
      "provenance": [],
      "collapsed_sections": [],
      "authorship_tag": "ABX9TyO2+Kxp+0HGADC/aCNns8a3",
      "include_colab_link": true
    },
    "kernelspec": {
      "name": "python3",
      "display_name": "Python 3"
    },
    "language_info": {
      "name": "python"
    }
  },
  "cells": [
    {
      "cell_type": "markdown",
      "metadata": {
        "id": "view-in-github",
        "colab_type": "text"
      },
      "source": [
        "<a href=\"https://colab.research.google.com/github/2pterons/training/blob/main/NLP/06.%20%ED%86%A0%ED%94%BD%20%EB%AA%A8%EB%8D%B8%EB%A7%81(Topic%20Modeling)/INTRO.ipynb\" target=\"_parent\"><img src=\"https://colab.research.google.com/assets/colab-badge.svg\" alt=\"Open In Colab\"/></a>"
      ]
    },
    {
      "cell_type": "markdown",
      "source": [
        "# 딥 러닝을 이용한 자연어 처리 입문\n",
        "https://wikidocs.net/30707"
      ],
      "metadata": {
        "id": "6IGm0oSA8Ttg"
      }
    },
    {
      "cell_type": "markdown",
      "source": [
        "토픽(Topic)은 한국어로는 주제라고 합니다. 토픽 모델링(Topic Modeling)이란 기계 학습 및 자연어 처리 분야에서 토픽이라는 문서 집합의 추상적인 주제를 발견하기 위한 통계적 모델 중 하나로, 텍스트 본문의 ___숨겨진 의미 구조를 발견___하기 위해 사용되는 텍스트 마이닝 기법입니다."
      ],
      "metadata": {
        "id": "OPScLKxu6CjQ"
      }
    },
    {
      "cell_type": "code",
      "source": [
        ""
      ],
      "metadata": {
        "id": "VJAKMEek6FPv"
      },
      "execution_count": null,
      "outputs": []
    }
  ]
}