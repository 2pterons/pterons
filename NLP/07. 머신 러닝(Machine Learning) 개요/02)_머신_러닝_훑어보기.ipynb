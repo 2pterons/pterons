{
  "nbformat": 4,
  "nbformat_minor": 0,
  "metadata": {
    "colab": {
      "name": "02) 머신 러닝 훑어보기.ipynb",
      "provenance": [],
      "authorship_tag": "ABX9TyNSLZxUlNUclzOmNMF3Oem4",
      "include_colab_link": true
    },
    "kernelspec": {
      "name": "python3",
      "display_name": "Python 3"
    },
    "language_info": {
      "name": "python"
    }
  },
  "cells": [
    {
      "cell_type": "markdown",
      "metadata": {
        "id": "view-in-github",
        "colab_type": "text"
      },
      "source": [
        "<a href=\"https://colab.research.google.com/github/2pterons/training/blob/main/NLP/07.%20%EB%A8%B8%EC%8B%A0%20%EB%9F%AC%EB%8B%9D(Machine%20Learning)%20%EA%B0%9C%EC%9A%94/02)_%EB%A8%B8%EC%8B%A0_%EB%9F%AC%EB%8B%9D_%ED%9B%91%EC%96%B4%EB%B3%B4%EA%B8%B0.ipynb\" target=\"_parent\"><img src=\"https://colab.research.google.com/assets/colab-badge.svg\" alt=\"Open In Colab\"/></a>"
      ]
    },
    {
      "cell_type": "markdown",
      "source": [
        "# 딥 러닝을 이용한 자연어 처리 입문\n",
        "https://wikidocs.net/32012"
      ],
      "metadata": {
        "id": "UAHjBboIgjGP"
      }
    },
    {
      "cell_type": "markdown",
      "source": [
        "# 02) 머신 러닝 훑어보기"
      ],
      "metadata": {
        "id": "sfW3ym7hgrsF"
      }
    },
    {
      "cell_type": "markdown",
      "source": [
        "머신 러닝의 특징을 이해하고, 주요 용어에 미리 친숙해져봅시다."
      ],
      "metadata": {
        "id": "-cNReKumgn8g"
      }
    },
    {
      "cell_type": "markdown",
      "source": [
        "## 1. 머신 러닝 모델의 평가**"
      ],
      "metadata": {
        "id": "g9qmAv2Ggp7C"
      }
    },
    {
      "cell_type": "markdown",
      "source": [
        "![image.png](data:image/png;base64,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)"
      ],
      "metadata": {
        "id": "eRcNdsn9gwSG"
      }
    },
    {
      "cell_type": "markdown",
      "source": [
        "머신 러닝을 위한 데이터를 준비했다면 기계를 학습하기 전 해당 데이터를 훈련용, 검증용, 테스트용 이렇게 세 가지로 분리하는 것이 일반적입니다. 훈련 데이터는 머신 러닝 모델을 학습하는 용도입니다. 테스트 데이터는 학습한 머신 러닝 모델의 성능을 평가하기 위한 용도입니다. 그렇다면 ___검증용 데이터의 용도는 무엇일까요?___\n",
        "  \n",
        "검증용 데이터는 모델의 성능을 평가하기 위한 용도가 아니라 ___모델의 성능을 조정하기 위한 용도___입니다. 더 정확히는 모델이 훈련 데이터에 ___과적합(overfitting) 이 되고 있는지 판단하거나 하이퍼파라미터의 조정을 위한 용도___입니다. 하이퍼파라미터와 매개변수라는 용어를 정리해둡시다.\n",
        "- 하이퍼파라미터(초매개변수) : 모델의 성능에 영향을 주는 사람이 값을 지정하는 변수.\n",
        "- 매개변수 : 가중치와 편향. 학습을 하는 동안 값이 계속해서 변하는 수.\n",
        "  \n",
        "아직 이 장에서는 검증용 데이터와 하이퍼파라미터의 개념이 어떤 의미인지 와닿지 않아도 괜찮습니다. 이 개념은 앞으로 지속적으로 언급하게 될 것입니다. 이 두 변수의 가장 큰 차이는 하이퍼파라미터는 보통 사용자가 직접 정해줄 수 있는 변수라는 점입니다. 뒤의 선형 회귀에서 배우게 되는 경사 하강법에서 학습률(learning rate)이나, 딥 러닝에서 뉴런의 수나 층의 수와 같은 것들이 대표적인 하이퍼파라미터입니다.\n",
        "\n",
        "반면, 가중치와 편향과 같은 매개변수는 사용자가 결정해주는 값이 아니라 모델이 학습하는 과정에서 얻어지는 값입니다. 훈련용 데이터로 훈련을 모두 시킨 모델은 검증용 데이터를 사용하여 정확도를 검증하며 하이퍼파라미터를 튜닝(tuning) 합니다. 검증용 데이터에 대해서 높은 정확도를 얻도록 하이퍼파라미터의 값을 바꿔보는 것입니다. 이렇게 튜닝하는 과정에서 모델은 검증용 데이터의 정확도를 높이는 방향으로 점차적으로 수정됩니다.\n",
        "\n",
        "튜닝 과정을 모두 끝내고 모델의 최종 평가를 하고자 한다면, 이제 검증용 데이터로 모델을 평가하는 것은 적합하지 않습니다. 모델은 검증용 데이터의 정확도를 높이기 위해서 수정되어져 온 모델이기 때문입니다. 모델에 대한 평가는 이제 모델이 한 번도 보지 못한 데이터인 테스트 데이터의 몫입니다. 수학능력시험을 준비하는 수험생으로 비유하자면 훈련 데이터는 실제 공부를 위한 문제지, 검증 데이터는 모의고사, 테스트 데이터는 실력을 최종적으로 평가하는 수능 시험이라고 볼 수 있습니다."
      ],
      "metadata": {
        "id": "DV84gO9kgyid"
      }
    },
    {
      "cell_type": "markdown",
      "source": [
        "### 1) 이진 분류 문제(Binary Clssification)"
      ],
      "metadata": {
        "id": "xZTztqZXhI5z"
      }
    },
    {
      "cell_type": "markdown",
      "source": [
        "이진 분류는 주어진 입력에 대해서 두 개의 선택지 중 하나의 답을 선택해야 하는 경우를 말합니다. 종합 시험 성적표를 보고 최종적으로 합격, 불합격인지 판단하는 문제, 메일을 보고나서 정상 메일, 스팸 메일인지를 판단하는 문제 등이 이에 속합니다."
      ],
      "metadata": {
        "id": "v1BE2OR_qU7-"
      }
    },
    {
      "cell_type": "markdown",
      "source": [
        "### 2) 다중 클래스 분류(Multi-class Classification)\n"
      ],
      "metadata": {
        "id": "KS1aUgiGqNBT"
      }
    },
    {
      "cell_type": "markdown",
      "source": [
        "다중 클래스 분류는 주어진 입력에 대해서 세 개 이상의 선택지 중에서 답을 선택해야 하는 경우를 말합니다. 예를 들어 서점 직원이 일을 하는데 과학, 영어, IT, 학습지, 만화라는 레이블이 붙어있는 5개의 책장이 있다고 합시다. 새 책이 입고되면, 이 책은 다섯 개의 책장 중에서 분야에 맞는 적절한 책장에 책을 넣어야 합니다. 이 경우는 현실에서의 다중 클래스 분류 문제라고 할 수 있겠습니다."
      ],
      "metadata": {
        "id": "PyUjlXJbqZlA"
      }
    },
    {
      "cell_type": "markdown",
      "source": [
        "### 3) 회귀 문제(Regression)"
      ],
      "metadata": {
        "id": "R5b5wM_IqRyf"
      }
    },
    {
      "cell_type": "markdown",
      "source": [
        "회귀 문제는 분류 문제처럼 둘 중 하나를 선택해야 한다거나, 책이 입고되었을 때 5개의 책장 중 하나의 책장을 골라야하는 경우처럼 정답이 몇 개의 정해진 선택지 중에서 정해져 있는 경우가 아니라 어떠한 연속적인 값의 범위 내에서 예측값이 나오는 경우를 말합니다.\n",
        "\n",
        "예를 들어서 역과의 거리, 인구 밀도, 방의 개수 등을 입력하면 부동산 가격을 예측하는 머신 러닝 모델이 있다고 해봅시다. 머신 러닝 모델이 부동산 가격을 7억 8,456만 3,450원으로 예측하는 경우도 있을 것이고, 8억 1257만 300원으로 예측하는 경우도 있을 수 있습니다. 특정 값의 범위 내에서는 어떤 숫자도 나올 수 있습니다. 기존의 분류 문제와 같이 분리된(비연속적인) 답이 결과가 아니라 연속된 값을 결과로 가지는 이러한 문제를 회귀 문제라고 부릅니다. 회귀 문제의 예시로 시계열 데이터(Time Series Data)를 이용한 주가 예측, 생산량 예측, 지수 예측 등이 있습니다."
      ],
      "metadata": {
        "id": "gTFKzqLUqUTR"
      }
    },
    {
      "cell_type": "markdown",
      "source": [
        "<br/><br/>\n",
        "## 3. 지도 학습과 비지도 학습"
      ],
      "metadata": {
        "id": "ZyvgtaeqqsyW"
      }
    },
    {
      "cell_type": "markdown",
      "source": [
        "머신 러닝은 크게 지도 학습, 비지도 학습, 강화 학습으로 나눕니다. 강화 학습은 이 책의 범위를 벗어나므로 설명하지 않습니다. 그리고 큰 갈래로서는 자주 언급 되지는 않지만 딥 러닝 자연어 처리에서 중요한 학습 방법 중 하나인 자기지도 학습(Self-Supervised Learning, SSL)에 대해서도 언급해보겠습니다."
      ],
      "metadata": {
        "id": "5xqAIWF5qv_q"
      }
    },
    {
      "cell_type": "markdown",
      "source": [
        "### 1) 지도 학습(Supervised Learning)\n"
      ],
      "metadata": {
        "id": "aTqfLq0rqzDm"
      }
    },
    {
      "cell_type": "markdown",
      "source": [
        "지도 학습이란 레이블(Label)이라는 정답과 함께 학습하는 것을 말합니다. 자연어 처리는 대부분 지도 학습에 속합니다. 앞으로 우리가 풀게 될 자연어 처리의 많은 문제들은 레이블이 존재하는 경우가 많기 때문입니다. 이는 앞서 2챕터의 데이터의 분리를 설명하며 상세히 설명한 바 있습니다. 레이블이라는 말 외에도 $y$, 실제값 등으로 부르기도 하는데 이 책에서는 이 용어들을 상황에 따라서 바꿔서 사용합니다. 기계는 예측값과 실제값의 차이인 ___오차를 줄이는 방식___으로 학습을 하게 되는데 예측값은 $\\hat{y}$\n",
        "과 같이 표현하기도 합니다."
      ],
      "metadata": {
        "id": "FQj0ORZLq8or"
      }
    },
    {
      "cell_type": "markdown",
      "source": [
        "### 2) 비지도 학습(Unsupervised Learning)"
      ],
      "metadata": {
        "id": "WODSCoD4rOgM"
      }
    },
    {
      "cell_type": "markdown",
      "source": [
        "비지도 학습은 데이터에 별도의 레이블이 없이 학습하는 것을 말합니다. 예를 들어 텍스트 처리 분야의 토픽 모델링 알고리즘인 LSA나 LDA는 비지도 학습에 속합니다. LSA와 LDA는 온라인 웹 사이트 위키독스의 e-book( https://wikidocs.net/30707 )에서 볼 수 있습니다."
      ],
      "metadata": {
        "id": "TG-apOkoriNW"
      }
    },
    {
      "cell_type": "markdown",
      "source": [
        "### 3) 자기지도 학습(Self-Supervised Learning, SSL)"
      ],
      "metadata": {
        "id": "73k3vWBhroEX"
      }
    },
    {
      "cell_type": "markdown",
      "source": [
        "레이블이 없는 데이터가 주어지면, 모델이 학습을 위해서 스스로 데이터로부터 레이블을 만들어서 학습하는 경우를 자기지도 학습이라고 합니다. 대표적인 예시로는 ___Word2Vec___과 같은 ___워드 임베딩 알고리즘___이나, ___BERT___와 같은 언어 모델의 학습 방법을 들 수 있습니다. 이들이 어떻게 레이블을 만들어 학습하는지에 대한 설명은 Word2Vec과 BERT를 설명하는 페이지를 참고바랍니다."
      ],
      "metadata": {
        "id": "ZL3L65Nrrsg2"
      }
    },
    {
      "cell_type": "markdown",
      "source": [
        "### 4) 샘플(Sample)과 특성(Feature)"
      ],
      "metadata": {
        "id": "cAMM6SOIr1Xz"
      }
    },
    {
      "cell_type": "markdown",
      "source": [
        "많은 머신 러닝 문제가 1개 이상의 독립 변수 $x$를 가지고 종속 변수 $y$를 예측하는 문제입니다. 머신 러닝 모델 중 특히 인공 신경망은 독립 변수, 종속 변수, 가중치, 편향 등을 행렬 연산을 통해 연산하는 경우가 많습니다. 앞으로 인공 신경망을 배우게되면 훈련 데이터를 행렬로 표현하는 경우를 많이 보게 됩니다. 독립 변수 의 행렬을 X라고 하였을 때, 독립 변수의 개수가 n개이고 데이터의 개수가 m인 행렬 X는 다음과 같습니다."
      ],
      "metadata": {
        "id": "qCp2Naf1r66P"
      }
    },
    {
      "cell_type": "markdown",
      "source": [
        "![image.png](data:image/png;base64,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)"
      ],
      "metadata": {
        "id": "Q_Ls5L_6sBPb"
      }
    },
    {
      "cell_type": "markdown",
      "source": [
        "이때 머신 러닝에서는 하나의 데이터. 행렬 관점에서는 하나의 행을 샘플(Sample)이라고 부릅니다. (데이터베이스에서 레코드라고 부르는 단위입니다.) 그리고 종속 변수 $y$를 예측하기 위한 각각의 독립 변수 $x$를 특성(Feature)이라고 부릅니다. 행렬 관점에서는 각 열에 해당됩니다."
      ],
      "metadata": {
        "id": "L9chY3gNr_yN"
      }
    },
    {
      "cell_type": "markdown",
      "source": [
        "### 5. 혼동 행렬(Confusion Matrix)"
      ],
      "metadata": {
        "id": "E5Xwb7hlsHOC"
      }
    },
    {
      "cell_type": "markdown",
      "source": [
        "머신 러닝에서는 맞춘 문제수를 전체 문제수로 나눈 값을 정확도(Accuracy)라고 합니다. 하지만 정확도는 맞춘 결과와 틀린 결과에 대한 세부적인 내용을 알려주지는 않습니다. 이를 위해서 사용하는 것이 혼동 행렬(Confusion Matrix)입니다. 예를 들어 참(True)와 거짓(False) 둘 중 하나를 예측하는 문제였다고 가정해봅시다. 아래의 혼동 행렬에서 각 열은 예측값을 나타내며, 각 행은 실제값을 나타냅니다.\n",
        "\n",
        "```\n",
        "    -\t   예측 참\t예측 거짓\n",
        "실제 참\t   TP\t      FN\n",
        "실제 거짓\t FP\t      TN\n",
        "```\n",
        "머신 러닝에서는 다음과 같은 네 가지 케이스에 대해서 각각 TP, FP, FN, TN을 정의합니다.\n",
        "\n",
        "- True Positive(TP) : 실제 True인 정답을 True라고 예측 (정답)\n",
        "- False Positive(FP) : 실제 False인 정답을 True라고 예측 (오답)\n",
        "- False Negative(FN) : 실제 True인 정답을 False라고 예측 (오답)\n",
        "- True Negative(TN) : 실제 False인 정답을 False라고 예측 (정답)\n",
        "  \n",
        "이 개념을 사용하면 정밀도(Precision)과 재현율(Recall)이 됩니다."
      ],
      "metadata": {
        "id": "AeE6JaWCuJ_I"
      }
    },
    {
      "cell_type": "code",
      "source": [
        ""
      ],
      "metadata": {
        "id": "XxLokdq5uZNF"
      },
      "execution_count": null,
      "outputs": []
    }
  ]
}