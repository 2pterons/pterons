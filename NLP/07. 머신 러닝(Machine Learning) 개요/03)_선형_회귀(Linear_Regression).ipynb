{
  "nbformat": 4,
  "nbformat_minor": 0,
  "metadata": {
    "colab": {
      "name": "03) 선형 회귀(Linear Regression).ipynb",
      "provenance": [],
      "collapsed_sections": [],
      "authorship_tag": "ABX9TyMi86D6WNuOayfv4woGpjKi",
      "include_colab_link": true
    },
    "kernelspec": {
      "name": "python3",
      "display_name": "Python 3"
    },
    "language_info": {
      "name": "python"
    }
  },
  "cells": [
    {
      "cell_type": "markdown",
      "metadata": {
        "id": "view-in-github",
        "colab_type": "text"
      },
      "source": [
        "<a href=\"https://colab.research.google.com/github/2pterons/training/blob/main/NLP/07.%20%EB%A8%B8%EC%8B%A0%20%EB%9F%AC%EB%8B%9D(Machine%20Learning)%20%EA%B0%9C%EC%9A%94/03)_%EC%84%A0%ED%98%95_%ED%9A%8C%EA%B7%80(Linear_Regression).ipynb\" target=\"_parent\"><img src=\"https://colab.research.google.com/assets/colab-badge.svg\" alt=\"Open In Colab\"/></a>"
      ]
    },
    {
      "cell_type": "markdown",
      "source": [
        "# 딥 러닝을 이용한 자연어 처리 입문\n",
        "https://wikidocs.net/21670"
      ],
      "metadata": {
        "id": "Or5ljVncWHSZ"
      }
    },
    {
      "cell_type": "code",
      "source": [
        ""
      ],
      "metadata": {
        "id": "8pLi6ZdTWtAn"
      },
      "execution_count": null,
      "outputs": []
    }
  ]
}