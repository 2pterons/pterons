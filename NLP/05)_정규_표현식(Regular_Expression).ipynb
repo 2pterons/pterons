{
  "nbformat": 4,
  "nbformat_minor": 0,
  "metadata": {
    "colab": {
      "name": "05) 정규 표현식(Regular Expression).ipynb",
      "provenance": [],
      "collapsed_sections": [],
      "authorship_tag": "ABX9TyNGDdcIGh/5IFGKg0g+zQ5j",
      "include_colab_link": true
    },
    "kernelspec": {
      "name": "python3",
      "display_name": "Python 3"
    },
    "language_info": {
      "name": "python"
    }
  },
  "cells": [
    {
      "cell_type": "markdown",
      "metadata": {
        "id": "view-in-github",
        "colab_type": "text"
      },
      "source": [
        "<a href=\"https://colab.research.google.com/github/2pterons/training/blob/main/NLP/05)_%EC%A0%95%EA%B7%9C_%ED%91%9C%ED%98%84%EC%8B%9D(Regular_Expression).ipynb\" target=\"_parent\"><img src=\"https://colab.research.google.com/assets/colab-badge.svg\" alt=\"Open In Colab\"/></a>"
      ]
    },
    {
      "cell_type": "markdown",
      "source": [
        "# 딥 러닝을 이용한 자연어 처리 입문\n",
        "링크 : https://wikidocs.net/21698"
      ],
      "metadata": {
        "id": "ULL09AJin9C_"
      }
    },
    {
      "cell_type": "markdown",
      "source": [
        "## 05. 정규 표현식(Regular Expression)"
      ],
      "metadata": {
        "id": "Y4ZinWAOoIqJ"
      }
    },
    {
      "cell_type": "markdown",
      "source": [
        "텍스트 전처리에서 정규 표현식은 아주 유용한 도구입니다. 이번에는 파이썬에서 지원하고 있는 정규 표현식 모듈 re의 사용 방법과 NLTK를 통한 정규 표현식을 이용한 토큰화에 대해서 알아봅니다."
      ],
      "metadata": {
        "id": "ZkyeteBzoU62"
      }
    },
    {
      "cell_type": "markdown",
      "source": [
        "## 1. 정규 표현식 문법과 모듈 함수"
      ],
      "metadata": {
        "id": "6EY4HbmXoMwH"
      }
    },
    {
      "cell_type": "markdown",
      "source": [
        "파이썬에서는 정규 표현식 모듈 re을 지원하므로, 이를 이용하면 특정 규칙이 있는 텍스트 데이터를 빠르게 정제할 수 있습니다. 본격적으로 정규 표현식에 대해서 실습해보기에 앞서 정규 표현식을 위해 사용되는 특수 문자와 모듈 함수에 대해서 알아보도록 하겠습니다."
      ],
      "metadata": {
        "id": "7LDtlmbOoXmn"
      }
    },
    {
      "cell_type": "markdown",
      "source": [
        "### 1) 정규 표현식 문법\n",
        "정규 표현식을 위해 사용 되는 문법 중 특수 문자들은 아래와 같습니다.  \n",
        "```\n",
        "\n",
        "특수 문자\t\t        설명\n",
        ".\t        \t        한 개의 임의의 문자를 나타냅니다. (줄바꿈 문자인 \\n는 제외)\n",
        "?\t        \t        앞의 문자가 존재할 수도 있고, 존재하지 않을 수도 있습니다. (문자가 0개 또는 1개)\n",
        "*\t        \t        앞의 문자가 무한개로 존재할 수도 있고, 존재하지 않을 수도 있습니다. (문자가 0개 이상)\n",
        "+\t        \t        앞의 문자가 최소 한 개 이상 존재합니다. (문자가 1개 이상)\n",
        "^\t        \t        뒤의 문자로 문자열이 시작됩니다.\n",
        "$\t        \t        앞의 문자로 문자열이 끝납니다.\n",
        "{숫자}\t        \t   숫자만큼 반복합니다.\n",
        "{숫자1, 숫자2}\t       숫자1 이상 숫자2 이하만큼 반복합니다. ?, *, +를 이것으로 대체할 수 있습니다.\n",
        "{숫자,}\t\t          숫자 이상만큼 반복합니다.\n",
        "[ ]\t\t              대괄호 안의 문자들 중 한 개의 문자와 매치합니다. [amk]라고 한다면 a 또는 m 또는 k 중 하나라도 존재하면 매치를 의미합니다. [a-z]와 같이 범위를 지정할 수도 있습니다. [a-zA-Z]는 알파벳 전체를 의미하는 범위이며, 문자열에 알파벳이 존재하면 매치를 의미합니다.\n",
        "[^문자]\t\t          해당 문자를 제외한 문자를 매치합니다.\n",
        "l\t\t        \t    AlB와 같이 쓰이며 A 또는 B의 의미를 가집니다.\n",
        "\n",
        "```\n",
        "정규 표현식 문법에는 역 슬래쉬(\\)를 이용하여 자주 쓰이는 문자 규칙들이 있습니다.  \n",
        "\n",
        "```\n",
        "문자 \t\t              규칙\t설명\n",
        "\\\t\t\t              역 슬래쉬 문자 자체를 의미합니다\n",
        "\\d\t\t\t             모든 숫자를 의미합니다. [0-9]와 의미가 동일합니다.\n",
        "\\D\t\t\t             숫자를 제외한 모든 문자를 의미합니다. [^0-9]와 의미가 동일합니다.\n",
        "\\s\t\t\t             공백을 의미합니다. [ \\t\\n\\r\\f\\v]와 의미가 동일합니다.\n",
        "\\S\t\t\t             공백을 제외한 문자를 의미합니다. [^ \\t\\n\\r\\f\\v]와 의미가 동일합니다.\n",
        "\\w\t\t\t             문자 또는 숫자를 의미합니다. [a-zA-Z0-9]와 의미가 동일합니다.\n",
        "\\W\t\t\t             문자 또는 숫자가 아닌 문자를 의미합니다. [^a-zA-Z0-9]와 의미가 동일합니다.\n",
        "```"
      ],
      "metadata": {
        "id": "IRtUYMFaoadr"
      }
    },
    {
      "cell_type": "markdown",
      "source": [
        "### 2) 정규표현식 모듈 함수"
      ],
      "metadata": {
        "id": "No6b71uopYvs"
      }
    },
    {
      "cell_type": "markdown",
      "source": [
        "정규표현식 모듈에서 지원하는 함수는 이와 같습니다.\n",
        "```\n",
        "모듈 함수\t   설명\n",
        "re.compile()\t정규표현식을 컴파일하는 함수입니다. 다시 말해, 파이썬에게 전해주는 역할을 합니다. 찾고자 하는 패턴이 빈번한 경우에는 미리 컴파일해놓고 사용하면 속도와 편의성면에서 유리합니다.\n",
        "re.search()\t 문자열 전체에 대해서 정규표현식과 매치되는지를 검색합니다.\n",
        "re.match()\t  문자열의 처음이 정규표현식과 매치되는지를 검색합니다.\n",
        "re.split()\t  정규 표현식을 기준으로 문자열을 분리하여 리스트로 리턴합니다.\n",
        "re.findall()\t문자열에서 정규 표현식과 매치되는 모든 경우의 문자열을 찾아서 리스트로 리턴합니다. 만약, 매치되는 문자열이 없다면 빈 리스트가 리턴됩니다.\n",
        "re.finditer()   문자열에서 정규 표현식과 매치되는 모든 경우의 문자열에 대한 이터레이터 객체를 리턴합니다.\n",
        "re.sub()\t    문자열에서 정규 표현식과 일치하는 부분에 대해서 다른 문자열로 대체합니다.\n",
        "```\n",
        "앞으로 진행될 실습에서는 re.compile()에 정규 표현식을 컴파일하고, re.search()를 통해서 해당 정규 표현식이 입력 텍스트와 매치되는지를 확인하면서 각 정규 표현식에 대해서 이해해보도록 하겠습니다. re.search() 함수는 매치된다면 Match Object를 리턴하고, 매치되지 않으면 아무런 값도 출력되지 않습니다."
      ],
      "metadata": {
        "id": "0LpquZcBo8go"
      }
    },
    {
      "cell_type": "markdown",
      "source": [
        "## 2. 정규 표현식 실습"
      ],
      "metadata": {
        "id": "HC8tdP8Ppxyi"
      }
    },
    {
      "cell_type": "markdown",
      "source": [
        "앞서 표로 봤던 정규 표현식 특수 문자에 대해서 직접 예제를 통해 이해해보도록 하겠습니다.\n",
        "실습을 위해 정규표현식 모듈 re를 임포트합니다."
      ],
      "metadata": {
        "id": "WPJa8WqRpeL7"
      }
    },
    {
      "cell_type": "code",
      "source": [
        "import re"
      ],
      "metadata": {
        "id": "EzGcxkc5p062"
      },
      "execution_count": null,
      "outputs": []
    },
    {
      "cell_type": "markdown",
      "source": [
        "### 1) . 기호"
      ],
      "metadata": {
        "id": "CQdSfRggp2GW"
      }
    },
    {
      "cell_type": "markdown",
      "source": [
        ".은 한 개의 임의의 문자를 나타냅니다. 예를 들어서 정규 표현식이 a.c라고 합시다. a와 c 사이에는 어떤 1개의 문자라도 올 수 있습니다. 즉, akc, azc, avc, a5c, a!c와 같은 형태는 모두 a.c의 정규 표현식과 매치됩니다. 실제 예제를 통해 이해해보도록 하겠습니다."
      ],
      "metadata": {
        "id": "2NWh8b-4p4Kq"
      }
    },
    {
      "cell_type": "code",
      "source": [
        "r = re.compile(\"a.c\")\n",
        "r.search(\"kkk\") # 아무런 결과도 출력되지 않는다. "
      ],
      "metadata": {
        "id": "6pb8lPCRp6bV"
      },
      "execution_count": null,
      "outputs": []
    },
    {
      "cell_type": "code",
      "source": [
        "r.search(\"abc\")"
      ],
      "metadata": {
        "colab": {
          "base_uri": "https://localhost:8080/"
        },
        "id": "dsSrZtrEp_FL",
        "outputId": "b0dffced-9259-4de7-fdb6-18807dbc114f"
      },
      "execution_count": null,
      "outputs": [
        {
          "output_type": "execute_result",
          "data": {
            "text/plain": [
              "<re.Match object; span=(0, 3), match='abc'>"
            ]
          },
          "metadata": {},
          "execution_count": 5
        }
      ]
    },
    {
      "cell_type": "markdown",
      "source": [
        "위의 코드는 search의 입력으로 들어오는 문자열에 정규표현식 패턴 a.c이 존재하는지를 확인하는 코드입니다. (.)은 어떤 문자로도 인식될 수 있기 때문에 abc라는 문자열은 a.c라는 정규 표현식 패턴으로 매치되는 것을 볼 수 있습니다."
      ],
      "metadata": {
        "id": "eel4AV82qA8x"
      }
    },
    {
      "cell_type": "markdown",
      "source": [
        "### 2) ?기호"
      ],
      "metadata": {
        "id": "t79_mQsXqFX6"
      }
    },
    {
      "cell_type": "markdown",
      "source": [
        "?는 ? 앞의 문자가 존재할 수도 있고, 존재하지 않을 수도 있는 경우를 나타냅니다.  \n",
        "예를 들어서 정규 표현식이 ab?c라고 합시다.  이 경우 이 정규 표현식에서의 b는 있다고 취급할 수도 있고, 없다고 취급할 수도 있습니다. 즉, abc와 ac모두 매치할 수 있습니다.  "
      ],
      "metadata": {
        "id": "eNrFLnsIqHYk"
      }
    },
    {
      "cell_type": "code",
      "source": [
        "r = re.compile(\"ab?c\")\n",
        "r.search(\"abbc\") # 아무런 결과도 출력되지 않는다. \n"
      ],
      "metadata": {
        "id": "0VdutYxtqT44"
      },
      "execution_count": null,
      "outputs": []
    },
    {
      "cell_type": "code",
      "source": [
        "r.search(\"abc\")"
      ],
      "metadata": {
        "colab": {
          "base_uri": "https://localhost:8080/"
        },
        "id": "u8rCNFomq5p_",
        "outputId": "759015d2-4195-45af-f8ef-d9b0c1377722"
      },
      "execution_count": null,
      "outputs": [
        {
          "output_type": "execute_result",
          "data": {
            "text/plain": [
              "<re.Match object; span=(0, 3), match='abc'>"
            ]
          },
          "metadata": {},
          "execution_count": 9
        }
      ]
    },
    {
      "cell_type": "markdown",
      "source": [
        "b가 있는 것으로 판단하여 abc를 매치하는 것을 볼 수 있습니다.  "
      ],
      "metadata": {
        "id": "m5ZIWmerq6pr"
      }
    },
    {
      "cell_type": "code",
      "source": [
        "r.search(\"ac\")"
      ],
      "metadata": {
        "colab": {
          "base_uri": "https://localhost:8080/"
        },
        "id": "Qphml9IDq8oT",
        "outputId": "539ae916-37d5-43a9-d2dc-37f8d325d2b8"
      },
      "execution_count": null,
      "outputs": [
        {
          "output_type": "execute_result",
          "data": {
            "text/plain": [
              "<re.Match object; span=(0, 2), match='ac'>"
            ]
          },
          "metadata": {},
          "execution_count": 10
        }
      ]
    },
    {
      "cell_type": "markdown",
      "source": [
        "b가 없는 것으로 판단하여 ac를 매치하는 것을 볼 수 있습니다.  "
      ],
      "metadata": {
        "id": "4POMIwxlrCHx"
      }
    },
    {
      "cell_type": "markdown",
      "source": [
        "### 3) * 기호"
      ],
      "metadata": {
        "id": "LkZ57jaNrDID"
      }
    },
    {
      "cell_type": "markdown",
      "source": [
        "*은 바로 앞의 문자가 0개 이상일 경우를 나타냅니다. 앞의 문자는 존재하지 않을 수도 있으며, 또는 여러 개일 수도 있습니다. 예를 들어서 정규 표현식이 ab*c라고 합시다. 그렇다면 ac, abc, abbc, abbbc 등과 매치할 수 있으며 b의 갯수는 무수히 많아도 상관없습니다."
      ],
      "metadata": {
        "id": "EvnL0eVRrIkB"
      }
    },
    {
      "cell_type": "code",
      "source": [
        "r = re.compile(\"ab*c\")\n",
        "r.search(\"a\") # 아무런 결과도 출력되지 않는다.  "
      ],
      "metadata": {
        "id": "bYMB0IbArKz2"
      },
      "execution_count": null,
      "outputs": []
    },
    {
      "cell_type": "code",
      "source": [
        "r.search(\"abbc\")"
      ],
      "metadata": {
        "colab": {
          "base_uri": "https://localhost:8080/"
        },
        "id": "Oq6lTqsxrSTE",
        "outputId": "9b3b1009-4610-45e0-8652-7bac4b3df759"
      },
      "execution_count": null,
      "outputs": [
        {
          "output_type": "execute_result",
          "data": {
            "text/plain": [
              "<re.Match object; span=(0, 4), match='abbc'>"
            ]
          },
          "metadata": {},
          "execution_count": 14
        }
      ]
    },
    {
      "cell_type": "code",
      "source": [
        "r.search(\"ac\")"
      ],
      "metadata": {
        "colab": {
          "base_uri": "https://localhost:8080/"
        },
        "id": "lhM2TfA7rWjX",
        "outputId": "9f9c3d2c-8b50-4dbb-8010-00280d3a00fe"
      },
      "execution_count": null,
      "outputs": [
        {
          "output_type": "execute_result",
          "data": {
            "text/plain": [
              "<re.Match object; span=(0, 2), match='ac'>"
            ]
          },
          "metadata": {},
          "execution_count": 15
        }
      ]
    },
    {
      "cell_type": "code",
      "source": [
        "r.search(\"abc\")"
      ],
      "metadata": {
        "colab": {
          "base_uri": "https://localhost:8080/"
        },
        "id": "0OqP6XglraLr",
        "outputId": "3dca617b-073e-41a6-db81-d60e15d90aed"
      },
      "execution_count": null,
      "outputs": [
        {
          "output_type": "execute_result",
          "data": {
            "text/plain": [
              "<re.Match object; span=(0, 3), match='abc'>"
            ]
          },
          "metadata": {},
          "execution_count": 17
        }
      ]
    },
    {
      "cell_type": "code",
      "source": [
        "r.search(\"abbbbc\")"
      ],
      "metadata": {
        "colab": {
          "base_uri": "https://localhost:8080/"
        },
        "id": "79Ejy9NxreBS",
        "outputId": "68deacf5-a24d-4737-be68-dc23c1fd5a47"
      },
      "execution_count": null,
      "outputs": [
        {
          "output_type": "execute_result",
          "data": {
            "text/plain": [
              "<re.Match object; span=(0, 6), match='abbbbc'>"
            ]
          },
          "metadata": {},
          "execution_count": 18
        }
      ]
    },
    {
      "cell_type": "markdown",
      "source": [
        "### 4) + 기호"
      ],
      "metadata": {
        "id": "--2GqGjyrfKt"
      }
    },
    {
      "cell_type": "markdown",
      "source": [
        "+는 *와 유사합니다. 하지만 다른 점은 앞의 문자가 최소 1개 이상이어야 한다는 점입니다. 예를 들어서 정규 표현식이 ab+c라고 한다면, ac는 매치되지 않습니다. 하지만 abc, abbc, abbbc 등과 매치할 수 있으며 b의 갯수는 무수히 많을 수 있습니다."
      ],
      "metadata": {
        "id": "fzgSAKUarhF3"
      }
    },
    {
      "cell_type": "code",
      "source": [
        "r = re.compile(\"ab+c\")\n",
        "r.search(\"ac\") # 아무런 결과도 출력되지 않는다."
      ],
      "metadata": {
        "id": "KzNnMYXirkkQ"
      },
      "execution_count": null,
      "outputs": []
    },
    {
      "cell_type": "code",
      "source": [
        "r.search(\"abc\")"
      ],
      "metadata": {
        "colab": {
          "base_uri": "https://localhost:8080/"
        },
        "id": "bhZlhfFwrsJK",
        "outputId": "9121c15b-794b-4e9a-ec0a-0921af2f60af"
      },
      "execution_count": null,
      "outputs": [
        {
          "output_type": "execute_result",
          "data": {
            "text/plain": [
              "<re.Match object; span=(0, 3), match='abc'>"
            ]
          },
          "metadata": {},
          "execution_count": 22
        }
      ]
    },
    {
      "cell_type": "code",
      "source": [
        "r.search(\"abbbbbc\")"
      ],
      "metadata": {
        "colab": {
          "base_uri": "https://localhost:8080/"
        },
        "id": "VGwjl_jkrt5C",
        "outputId": "11525aad-5cff-4b80-fca4-8897c4131496"
      },
      "execution_count": null,
      "outputs": [
        {
          "output_type": "execute_result",
          "data": {
            "text/plain": [
              "<re.Match object; span=(0, 7), match='abbbbbc'>"
            ]
          },
          "metadata": {},
          "execution_count": 23
        }
      ]
    },
    {
      "cell_type": "markdown",
      "source": [
        "### 5) ^기호"
      ],
      "metadata": {
        "id": "7NgZOOW5rymT"
      }
    },
    {
      "cell_type": "markdown",
      "source": [
        "^는 시작되는 글자를 지정합니다. 가령 정규표현식이 ^a라면 a로 시작되는 문자열만을 찾아냅니다."
      ],
      "metadata": {
        "id": "2FAy6KQpr1Er"
      }
    },
    {
      "cell_type": "code",
      "source": [
        "r = re.compile(\"^a\")\n",
        "r.search(\"bbc\") # 아무런 결과도 출력되지 않는다.  "
      ],
      "metadata": {
        "id": "jaSXmBtlr3Yr"
      },
      "execution_count": null,
      "outputs": []
    },
    {
      "cell_type": "code",
      "source": [
        "r.search(\"ab\")"
      ],
      "metadata": {
        "colab": {
          "base_uri": "https://localhost:8080/"
        },
        "id": "EgwyXzIqr9NY",
        "outputId": "872df67d-7bd2-4b3b-fd9d-b4574e656360"
      },
      "execution_count": null,
      "outputs": [
        {
          "output_type": "execute_result",
          "data": {
            "text/plain": [
              "<re.Match object; span=(0, 1), match='a'>"
            ]
          },
          "metadata": {},
          "execution_count": 25
        }
      ]
    },
    {
      "cell_type": "markdown",
      "source": [
        "bbc는 a로 시작되지 않지만, ab는 a로 시작되기 때문에 매치되었습니다."
      ],
      "metadata": {
        "id": "1coM6MN6r-TV"
      }
    },
    {
      "cell_type": "markdown",
      "source": [
        "### 6) {숫자} 기호"
      ],
      "metadata": {
        "id": "9l6rkFTPsBrY"
      }
    },
    {
      "cell_type": "markdown",
      "source": [
        "문자에 해당 기호를 붙이면, 해당 문자를 숫자만큼 반복한 것을 나타냅니다. 예를들어서 정규 표현식이 ab{2}c라면 a와 c사이에 b가 존재하면서 b가 2개인 문자열에 대해서 매치합니다.  "
      ],
      "metadata": {
        "id": "4bcfM0QGsEYl"
      }
    },
    {
      "cell_type": "code",
      "source": [
        "r = re.compile(\"ab{2}c\")\n",
        "r.search(\"ac\") # 아무런 결과도 출력되지 않는다.   \n",
        "r.search(\"abc\") # 아무런 결과도 출력되지 않는다.  "
      ],
      "metadata": {
        "id": "-IINuNq_sM6-"
      },
      "execution_count": null,
      "outputs": []
    },
    {
      "cell_type": "code",
      "source": [
        "r.search(\"abbc\")"
      ],
      "metadata": {
        "colab": {
          "base_uri": "https://localhost:8080/"
        },
        "id": "ZdmqO1DNsY5U",
        "outputId": "899d0534-10d4-4924-e197-cc769976c7ca"
      },
      "execution_count": null,
      "outputs": [
        {
          "output_type": "execute_result",
          "data": {
            "text/plain": [
              "<re.Match object; span=(0, 4), match='abbc'>"
            ]
          },
          "metadata": {},
          "execution_count": 27
        }
      ]
    },
    {
      "cell_type": "code",
      "source": [
        "r.search(\"abbbbbc\") # 아무런 결과도 출력되지 않는다."
      ],
      "metadata": {
        "id": "VKzalUIlsaRw"
      },
      "execution_count": null,
      "outputs": []
    },
    {
      "cell_type": "markdown",
      "source": [
        "### 7) {숫자1, 숫자2} 기호\n"
      ],
      "metadata": {
        "id": "QssZrnEAsc-I"
      }
    },
    {
      "cell_type": "markdown",
      "source": [
        "문자에 해당 기호를 붙이면, 해당 문자를 숫자1 이상 숫자2 이하만큼 반복합니다. 예를 들어서 정규 표현식이 ab{2,8}c라면 a와 c 사이에 b가 존재하면서 b는 2개 이상 8개 이하인 문자열에 대해서 매치합니다."
      ],
      "metadata": {
        "id": "KlwETdzZsg7p"
      }
    },
    {
      "cell_type": "code",
      "source": [
        "r = re.compile(\"ab{2,8}c\")\n",
        "r.search(\"ac\") #  아무런 결과도 출력되지 않는다.\n",
        "r.search(\"abc\") #  아무런 결과도 출력되지 않는다."
      ],
      "metadata": {
        "id": "1m0I0zDtsizG"
      },
      "execution_count": null,
      "outputs": []
    },
    {
      "cell_type": "code",
      "source": [
        "r.search(\"abbc\")"
      ],
      "metadata": {
        "colab": {
          "base_uri": "https://localhost:8080/"
        },
        "id": "FnafRpx1suD1",
        "outputId": "7d7c00b2-a5d9-471f-fb44-7fb3be43780d"
      },
      "execution_count": null,
      "outputs": [
        {
          "output_type": "execute_result",
          "data": {
            "text/plain": [
              "<re.Match object; span=(0, 4), match='abbc'>"
            ]
          },
          "metadata": {},
          "execution_count": 35
        }
      ]
    },
    {
      "cell_type": "code",
      "source": [
        "r.search(\"abbbbbbbc\")"
      ],
      "metadata": {
        "colab": {
          "base_uri": "https://localhost:8080/"
        },
        "id": "CylFZ5jXszzP",
        "outputId": "4f6dd568-b8d6-4a79-e3a9-5a5c69443e40"
      },
      "execution_count": null,
      "outputs": [
        {
          "output_type": "execute_result",
          "data": {
            "text/plain": [
              "<re.Match object; span=(0, 9), match='abbbbbbbc'>"
            ]
          },
          "metadata": {},
          "execution_count": 36
        }
      ]
    },
    {
      "cell_type": "code",
      "source": [
        "r.search(\"abbbbbbbbbc\") # 8이상이기 때문에 아무런 결과도 출력되지 않는다. "
      ],
      "metadata": {
        "id": "jpCMW9ebswrA"
      },
      "execution_count": null,
      "outputs": []
    },
    {
      "cell_type": "markdown",
      "source": [
        "\n",
        "### 8) {숫자,} 기호"
      ],
      "metadata": {
        "id": "zi7xRTzRsyLJ"
      }
    },
    {
      "cell_type": "markdown",
      "source": [
        "문자에 해당 기호를 붙이면 해당 문자를 숫자 이상 만큼 반복합니다. 예를 들어서 정규 표현식이 a{2,}bc라면 뒤에 bc가 붙으면서 a의 갯수가 2개 이상인 경우인 문자열과 매치합니다. 또한 만약 {0,}을 쓴다면 *와 동일한 의미가 되며, {1,}을 쓴다면 +와 동일한 의미가 됩니다."
      ],
      "metadata": {
        "id": "NZojeH0ctGjv"
      }
    },
    {
      "cell_type": "code",
      "source": [
        "r = re.compile(\"a{2,}bc\")\n",
        "r.search(\"bc\") # 아무런 결과도 출력되지 않는다. \n",
        "r.search(\"aa\") # 아무런 결과도 출력되지 않는다. \n",
        "r.search(\"abc\") # 아무런 결과도 출력되지 않는다. "
      ],
      "metadata": {
        "id": "QITeiG-2tJjO"
      },
      "execution_count": null,
      "outputs": []
    },
    {
      "cell_type": "code",
      "source": [
        "r.search(\"aabc\")"
      ],
      "metadata": {
        "colab": {
          "base_uri": "https://localhost:8080/"
        },
        "id": "iUlSz5IRtSvA",
        "outputId": "793210a3-71a6-41f4-a0b8-375c2f0a79bf"
      },
      "execution_count": null,
      "outputs": [
        {
          "output_type": "execute_result",
          "data": {
            "text/plain": [
              "<re.Match object; span=(0, 4), match='aabc'>"
            ]
          },
          "metadata": {},
          "execution_count": 40
        }
      ]
    },
    {
      "cell_type": "code",
      "source": [
        "r.search(\"aaaaaaaaaaaaaaaabc\")"
      ],
      "metadata": {
        "colab": {
          "base_uri": "https://localhost:8080/"
        },
        "id": "b3N-xzyYtYWT",
        "outputId": "ec6a8a4e-228e-4893-f10c-428eae649386"
      },
      "execution_count": null,
      "outputs": [
        {
          "output_type": "execute_result",
          "data": {
            "text/plain": [
              "<re.Match object; span=(0, 18), match='aaaaaaaaaaaaaaaabc'>"
            ]
          },
          "metadata": {},
          "execution_count": 42
        }
      ]
    },
    {
      "cell_type": "markdown",
      "source": [
        "### 9) [ ] 기호"
      ],
      "metadata": {
        "id": "JuPVyDN_tdjw"
      }
    },
    {
      "cell_type": "markdown",
      "source": [
        "[ ]안에 문자들을 넣으면 그 문자들 중 한 개의 문자와 매치라는 의미를 가집니다. 예를 들어서 정규 표현식이 [abc]라면, a 또는 b또는 c가 들어가있는 문자열과 매치됩니다. 범위를 지정하는 것도 가능합니다. [a-zA-Z]는 알파벳 전부를 의미하며, [0-9]는 숫자 전부를 의미합니다."
      ],
      "metadata": {
        "id": "JGGCGRSDtfpb"
      }
    },
    {
      "cell_type": "code",
      "source": [
        "r = re.compile(\"[abc]\") # [abc]는 a-c와 같다. \n",
        "r.search(\"zzz\") # 아무런 결과도 출력되지 않는다.  "
      ],
      "metadata": {
        "id": "37S3zBfntjPV"
      },
      "execution_count": null,
      "outputs": []
    },
    {
      "cell_type": "code",
      "source": [
        "r.search(\"a\")"
      ],
      "metadata": {
        "colab": {
          "base_uri": "https://localhost:8080/"
        },
        "id": "gFY6yAZStuSy",
        "outputId": "75c7a02d-1549-412b-df29-40116f9c5760"
      },
      "execution_count": null,
      "outputs": [
        {
          "output_type": "execute_result",
          "data": {
            "text/plain": [
              "<re.Match object; span=(0, 1), match='a'>"
            ]
          },
          "metadata": {},
          "execution_count": 44
        }
      ]
    },
    {
      "cell_type": "code",
      "source": [
        "r.search(\"baac\")"
      ],
      "metadata": {
        "colab": {
          "base_uri": "https://localhost:8080/"
        },
        "id": "-sFI5UPXtvx1",
        "outputId": "eb60c981-596d-422c-e369-68194ca06a49"
      },
      "execution_count": null,
      "outputs": [
        {
          "output_type": "execute_result",
          "data": {
            "text/plain": [
              "<re.Match object; span=(0, 1), match='b'>"
            ]
          },
          "metadata": {},
          "execution_count": 45
        }
      ]
    },
    {
      "cell_type": "markdown",
      "source": [
        "이번에는 알파벳 소문자에 대해서만 범위 지정하여 정규 표현식을 만들어보고 문자열과 매치해보도록 하겠습니다."
      ],
      "metadata": {
        "id": "P31pTgZwtxvk"
      }
    },
    {
      "cell_type": "code",
      "source": [
        "r = re.compile(\"[a-z]\")\n",
        "r.search(\"AAA\") # 아무런 결과도 출력되지 않는다. "
      ],
      "metadata": {
        "id": "R967DZz7tzlf"
      },
      "execution_count": null,
      "outputs": []
    },
    {
      "cell_type": "code",
      "source": [
        "r.search(\"aBC\")"
      ],
      "metadata": {
        "colab": {
          "base_uri": "https://localhost:8080/"
        },
        "id": "jM0oFL6ct5R6",
        "outputId": "b5f80df5-e63f-44ce-9d8d-bc2fd5b6290d"
      },
      "execution_count": null,
      "outputs": [
        {
          "output_type": "execute_result",
          "data": {
            "text/plain": [
              "<re.Match object; span=(0, 1), match='a'>"
            ]
          },
          "metadata": {},
          "execution_count": 47
        }
      ]
    },
    {
      "cell_type": "code",
      "source": [
        "r.search(\"111\") # 아무런 결과도 출력되지 않는다. "
      ],
      "metadata": {
        "id": "B171zBRIt7VP"
      },
      "execution_count": null,
      "outputs": []
    },
    {
      "cell_type": "markdown",
      "source": [
        "### 10) [^문자] 기호"
      ],
      "metadata": {
        "id": "YtO0S6V3t-RW"
      }
    },
    {
      "cell_type": "markdown",
      "source": [
        "[^문자]는 5)에서 설명한 ^와는 완전히 다른 의미로 쓰입니다. 여기서는 ^ 기호 뒤에 붙은 문자들을 제외한 모든 문자를 매치하는 역할을 합니다. 예를 들어서 [^abc]라는 정규 표현식이 있다면, a 또는 b 또는 c가 들어간 문자열을 제외한 모든 문자열을 매치합니다."
      ],
      "metadata": {
        "id": "LF8p0MQUuBsj"
      }
    },
    {
      "cell_type": "code",
      "source": [
        "r = re.compile(\"[^abc]\")\n",
        "\n",
        "# 아래의 세 코드는 아무런 결과도 출력되지 않는다. \n",
        "r.search(\"a\")\n",
        "r.search(\"ab\")\n",
        "r.search(\"b\")"
      ],
      "metadata": {
        "id": "fM_W74LCuD-l"
      },
      "execution_count": null,
      "outputs": []
    },
    {
      "cell_type": "code",
      "source": [
        "r.search(\"d\")"
      ],
      "metadata": {
        "colab": {
          "base_uri": "https://localhost:8080/"
        },
        "id": "14uV_RkVuL3s",
        "outputId": "01fe8de0-33d7-4aab-b4b7-e0df508d33d7"
      },
      "execution_count": null,
      "outputs": [
        {
          "output_type": "execute_result",
          "data": {
            "text/plain": [
              "<re.Match object; span=(0, 1), match='d'>"
            ]
          },
          "metadata": {},
          "execution_count": 53
        }
      ]
    },
    {
      "cell_type": "code",
      "source": [
        "r.search(\"1\")"
      ],
      "metadata": {
        "colab": {
          "base_uri": "https://localhost:8080/"
        },
        "id": "tNEHJeJ2uN4g",
        "outputId": "388b9653-81b0-401d-a141-ecacb99ed298"
      },
      "execution_count": null,
      "outputs": [
        {
          "output_type": "execute_result",
          "data": {
            "text/plain": [
              "<re.Match object; span=(0, 1), match='1'>"
            ]
          },
          "metadata": {},
          "execution_count": 55
        }
      ]
    },
    {
      "cell_type": "markdown",
      "source": [
        "<br/><br/>\n",
        "## 3. 정규 표현식 모듈 함수 예제"
      ],
      "metadata": {
        "id": "dw1nVnykuXCw"
      }
    },
    {
      "cell_type": "markdown",
      "source": [
        "지금까지 정규 표현식 문법에 대한 이해를 위해 정규 표현식 모듈 함수 중에서 re.compile()과 re.search()를 사용해보았습니다. 이번에는 다른 정규 표현식 모듈 함수에 대해서도 직접 실습을 진행해보도록 하겠습니다."
      ],
      "metadata": {
        "id": "2AFZxA_lueE1"
      }
    },
    {
      "cell_type": "markdown",
      "source": [
        "### (1) re.match() 와 re.search()의 차이"
      ],
      "metadata": {
        "id": "8vaWDI1gug2L"
      }
    },
    {
      "cell_type": "markdown",
      "source": [
        "search()가 정규 표현식 전체에 대해서 문자열이 매치하는지를 본다면, match()는 문자열의 첫 부분부터 정규 표현식과 매치하는지를 확인합니다. 문자열 중간에 찾을 패턴이 있다고 하더라도, match 함수는 문자열의 시작에서 패턴이 일치하지 않으면 찾지 않습니다."
      ],
      "metadata": {
        "id": "K6LrCmG6ukHz"
      }
    },
    {
      "cell_type": "code",
      "source": [
        "r = re.compile(\"ab.\")"
      ],
      "metadata": {
        "id": "guRbWQxAumRw"
      },
      "execution_count": null,
      "outputs": []
    },
    {
      "cell_type": "code",
      "source": [
        "r.search(\"kkkabc\")"
      ],
      "metadata": {
        "colab": {
          "base_uri": "https://localhost:8080/"
        },
        "id": "tNArtmikussP",
        "outputId": "342286ea-c190-4139-bd25-d73e714262aa"
      },
      "execution_count": null,
      "outputs": [
        {
          "output_type": "execute_result",
          "data": {
            "text/plain": [
              "<re.Match object; span=(3, 6), match='abc'>"
            ]
          },
          "metadata": {},
          "execution_count": 58
        }
      ]
    },
    {
      "cell_type": "code",
      "source": [
        "r.match(\"kkkabc\") # 아무런 결과도 출력되지 않는다. "
      ],
      "metadata": {
        "id": "kGvA9PQNut93"
      },
      "execution_count": null,
      "outputs": []
    },
    {
      "cell_type": "code",
      "source": [
        "r.match(\"abckkk\") # 시작패턴이 같아야한다. "
      ],
      "metadata": {
        "colab": {
          "base_uri": "https://localhost:8080/"
        },
        "id": "laFILZTBvBWV",
        "outputId": "49947cc3-efa9-42e8-93a2-d06866ad8172"
      },
      "execution_count": null,
      "outputs": [
        {
          "output_type": "execute_result",
          "data": {
            "text/plain": [
              "<re.Match object; span=(0, 3), match='abc'>"
            ]
          },
          "metadata": {},
          "execution_count": 60
        }
      ]
    },
    {
      "cell_type": "markdown",
      "source": [
        "위의 경우 정규 표현식이 ab. 이기때문에, ab 다음에는 어떤 한 글자가 존재할 수 있다는 패턴을 의미합니다. search 모듈 함수에 kkkabc라는 문자열을 넣어 매치되는지 확인한다면 abc라는 문자열에서 매치되어 Match object를 리턴합니다. 하지만 match 모듈 함수의 경우 앞 부분이 ab.와 매치되지 않기때문에, 아무런 결과도 출력되지 않습니다. 하지만 반대로 abckkk로 매치를 시도해보면, 시작 부분에서 패턴과 매치되었기 때문에 정상적으로 Match object를 리턴합니다."
      ],
      "metadata": {
        "id": "5ZUDpO5GuzH5"
      }
    },
    {
      "cell_type": "markdown",
      "source": [
        "### (2) re.split()\n"
      ],
      "metadata": {
        "id": "oNn5USGru1qD"
      }
    },
    {
      "cell_type": "markdown",
      "source": [
        "split() 함수는 입력된 정규 표현식을 기준으로 문자열들을 분리하여 리스트로 리턴합니다. 자연어 처리에 있어서 가장 많이 사용되는 정규 표현식 함수 중 하나인데, 토큰화에 유용하게 쓰일 수 있기 때문입니다."
      ],
      "metadata": {
        "id": "zByafmGvvbrh"
      }
    },
    {
      "cell_type": "code",
      "source": [
        "text = \"사과 딸기 수박 메론 바나나\"\n",
        "re.split(\" \", text)"
      ],
      "metadata": {
        "colab": {
          "base_uri": "https://localhost:8080/"
        },
        "id": "mwEZPDSdvbAK",
        "outputId": "10b97e85-7d31-4220-fd6f-69707a548f0f"
      },
      "execution_count": null,
      "outputs": [
        {
          "output_type": "execute_result",
          "data": {
            "text/plain": [
              "['사과', '딸기', '수박', '메론', '바나나']"
            ]
          },
          "metadata": {},
          "execution_count": 69
        }
      ]
    },
    {
      "cell_type": "markdown",
      "source": [
        "위의 예제의 경우 입력 텍스트로부터 공백을 기준으로 문자열 분리를 수행하였고, 결과로서 리스트를 리턴하는 모습을 볼 수 있습니다."
      ],
      "metadata": {
        "id": "eVaSpd5Lvqce"
      }
    },
    {
      "cell_type": "code",
      "source": [
        "text=\"\"\"사과\n",
        "딸기\n",
        "수박\n",
        "메론\n",
        "바나나\"\"\"\n",
        "\n",
        "re.split(\"\\n\", text)"
      ],
      "metadata": {
        "colab": {
          "base_uri": "https://localhost:8080/"
        },
        "id": "mEzqjkPVvq9M",
        "outputId": "b20a1da6-e1a9-486c-8f07-86f55af0da55"
      },
      "execution_count": null,
      "outputs": [
        {
          "output_type": "execute_result",
          "data": {
            "text/plain": [
              "['사과', '딸기', '수박', '메론', '바나나']"
            ]
          },
          "metadata": {},
          "execution_count": 72
        }
      ]
    },
    {
      "cell_type": "code",
      "source": [
        "text = \"사과+딸기+수박+메론+바나나\"\n",
        "re.split(\"\\+\", text)"
      ],
      "metadata": {
        "colab": {
          "base_uri": "https://localhost:8080/"
        },
        "id": "G_S3H31kvxSf",
        "outputId": "60a0b6b9-c544-41e2-eccd-a4b6b0875fb8"
      },
      "execution_count": null,
      "outputs": [
        {
          "output_type": "execute_result",
          "data": {
            "text/plain": [
              "['사과', '딸기', '수박', '메론', '바나나']"
            ]
          },
          "metadata": {},
          "execution_count": 73
        }
      ]
    },
    {
      "cell_type": "markdown",
      "source": [
        "이와 유사하게 줄바꿈이나 다른 정규 표현식을 기준으로 텍스트를 분리할 수도 있습니다."
      ],
      "metadata": {
        "id": "gQ5j9mFjv51q"
      }
    },
    {
      "cell_type": "markdown",
      "source": [
        "### (3) re.findall()"
      ],
      "metadata": {
        "id": "OdGBdk0Bv7yk"
      }
    },
    {
      "cell_type": "markdown",
      "source": [
        "findall() 함수는 정규 표현식과 매치되는 모든 문자열들을 리스트로 리턴합니다. 단, 매치되는 문자열이 없다면 빈 리스트를 리턴합니다."
      ],
      "metadata": {
        "id": "w4tK5VPrv_JG"
      }
    },
    {
      "cell_type": "code",
      "source": [
        "text = \"\"\"이름: 김철수\n",
        "전화번호 : 010 - 1234 - 1234\n",
        "나이 : 30\n",
        "성별 : 남\"\"\"\n",
        "re.findall(\"\\d+\", text)"
      ],
      "metadata": {
        "colab": {
          "base_uri": "https://localhost:8080/"
        },
        "id": "kF97udz7wDPW",
        "outputId": "5af214e1-2c4e-41f5-fd8b-d2b5e9e72455"
      },
      "execution_count": null,
      "outputs": [
        {
          "output_type": "execute_result",
          "data": {
            "text/plain": [
              "['010', '1234', '1234', '30']"
            ]
          },
          "metadata": {},
          "execution_count": 75
        }
      ]
    },
    {
      "cell_type": "markdown",
      "source": [
        "정규 표현식으로 숫자를 입력하자, 전체 텍스트로부터 숫자만 찾아내서 리스트로 리턴하는 것을 볼 수 있습니다. 하지만 만약 입력 텍스트에 숫자가 없다면 빈 리스트를 리턴하게 됩니다."
      ],
      "metadata": {
        "id": "AxRchPqYwWBk"
      }
    },
    {
      "cell_type": "code",
      "source": [
        "re.findall(\"\\d+\", \"문자열입니다. \") # 빈 리스트를 리턴한다. "
      ],
      "metadata": {
        "colab": {
          "base_uri": "https://localhost:8080/"
        },
        "id": "S8NgSRY0wWgF",
        "outputId": "490c0c97-7d77-4c3f-eaea-b6478a4b35b6"
      },
      "execution_count": null,
      "outputs": [
        {
          "output_type": "execute_result",
          "data": {
            "text/plain": [
              "[]"
            ]
          },
          "metadata": {},
          "execution_count": 77
        }
      ]
    },
    {
      "cell_type": "markdown",
      "source": [
        "### (4) re.sub()"
      ],
      "metadata": {
        "id": "gClSllF8wZcu"
      }
    },
    {
      "cell_type": "markdown",
      "source": [
        "sub() 함수는 정규 표현식 패턴과 일치하는 문자열을 찾아 다른 문자열로 대체할 수 있습니다."
      ],
      "metadata": {
        "id": "8nvfUsX7weh1"
      }
    },
    {
      "cell_type": "code",
      "source": [
        "text = \"Regular expression : A regular expression, regex or regexp[1] (sometimes called a rational expression)[2][3] is, in theoretical computer science and formal language theory, a sequence of characters that define a search pattern.\"\n",
        "re.sub('[^a-zA-Z]','*',text)"
      ],
      "metadata": {
        "colab": {
          "base_uri": "https://localhost:8080/",
          "height": 72
        },
        "id": "urmaTdhQwhuq",
        "outputId": "e98633b9-55db-46fa-94a7-af367dabf4b3"
      },
      "execution_count": null,
      "outputs": [
        {
          "output_type": "execute_result",
          "data": {
            "application/vnd.google.colaboratory.intrinsic+json": {
              "type": "string"
            },
            "text/plain": [
              "'Regular*expression***A*regular*expression**regex*or*regexp*****sometimes*called*a*rational*expression********is**in*theoretical*computer*science*and*formal*language*theory**a*sequence*of*characters*that*define*a*search*pattern*'"
            ]
          },
          "metadata": {},
          "execution_count": 79
        }
      ]
    },
    {
      "cell_type": "markdown",
      "source": [
        "위와 같은 경우, 영어 문장에 각주 등과 같은 이유로 특수 문자가 섞여있습니다. 자연어 처리를 위해 특수 문자를 제거하고 싶다면 알파벳 외의 문자는 공백으로 처리하는 등의 사용 용도로 쓸 수 있습니다."
      ],
      "metadata": {
        "id": "tzHnDxbqwq-C"
      }
    },
    {
      "cell_type": "markdown",
      "source": [
        "<br/><br/>\n",
        "## 4. 정규 표현식 텍스트 전처리 예제"
      ],
      "metadata": {
        "id": "XqNTKVTxwmo4"
      }
    },
    {
      "cell_type": "code",
      "source": [
        "text = \"\"\"100 John  PROF\n",
        "101 James STUD\n",
        "102 Mac STUD\"\"\"\n",
        "\n",
        "re.split('\\s+', text)"
      ],
      "metadata": {
        "colab": {
          "base_uri": "https://localhost:8080/"
        },
        "id": "1p2loGXiwvzN",
        "outputId": "458b68d3-305e-417d-aa78-0d8aafbd86b7"
      },
      "execution_count": null,
      "outputs": [
        {
          "output_type": "execute_result",
          "data": {
            "text/plain": [
              "['100', 'John', 'PROF', '101', 'James', 'STUD', '102', 'Mac', 'STUD']"
            ]
          },
          "metadata": {},
          "execution_count": 80
        }
      ]
    },
    {
      "cell_type": "markdown",
      "source": [
        "'\\s+'는 공백을 찾아내는 정규표현식입니다. 뒤에 붙는 +는 최소 1개 이상의 패턴을 찾아낸다는 의미입니다. s는 공백을 의미하기 때문에 최소 1개 이상의 공백인 패턴을 찾아냅니다. 입력으로 테이블 형식의 데이터를 텍스트에 저장하였습니다. 각 데이터가 공백으로 구분되어있습니다. split은 주어진 정규표현식을 기준으로 분리하므로 결과는 위와 같습니다."
      ],
      "metadata": {
        "id": "q2nt3wwBw4pa"
      }
    },
    {
      "cell_type": "markdown",
      "source": [
        "공백을 기준으로 데이터가 구분된 것을 볼 수 있습니다. 해당 데이터로부터 숫자만을 뽑아온다고 해봅시다.\n",
        "\n"
      ],
      "metadata": {
        "id": "U7CG4MddxB3I"
      }
    },
    {
      "cell_type": "code",
      "source": [
        "re.findall('\\d+', text)"
      ],
      "metadata": {
        "colab": {
          "base_uri": "https://localhost:8080/"
        },
        "id": "KttxXE78w8XE",
        "outputId": "1dbc06e3-810d-4041-876c-ffda9cb8b1db"
      },
      "execution_count": null,
      "outputs": [
        {
          "output_type": "execute_result",
          "data": {
            "text/plain": [
              "['100', '101', '102']"
            ]
          },
          "metadata": {},
          "execution_count": 81
        }
      ]
    },
    {
      "cell_type": "markdown",
      "source": [
        "여기서 \\d는 숫자에 해당되는 정규표현식입니다. +를 붙였으므로 최소 1개 이상의 숫자에 해당하는 값을 의미합니다. findall은 해당 정규 표현식에 일치하는 값을 찾아내는 메소드입니다."
      ],
      "metadata": {
        "id": "47TUObnsxJP5"
      }
    },
    {
      "cell_type": "markdown",
      "source": [
        "해당 코드의 결과는 위와 같습니다. 이번에는 텍스트로부터 대문자인 행의 값만 가져오고 싶다고 합시다. 이 경우에는 정규 표현식에 대문자를 기준으로 매치시키면 됩니다. 하지만 정규 표현식에 대문자라는 기준만을 넣을 경우에는 문자열을 가져오는 것이 아니라 모든 대문자 각각을 갖고오게 됩니다."
      ],
      "metadata": {
        "id": "LbUSBvefxNQF"
      }
    },
    {
      "cell_type": "code",
      "source": [
        "re.findall('[A-Z]', text)"
      ],
      "metadata": {
        "colab": {
          "base_uri": "https://localhost:8080/"
        },
        "id": "jcOOAdsLxLB0",
        "outputId": "424f6a8b-5c35-4a25-f10c-4407949b9feb"
      },
      "execution_count": null,
      "outputs": [
        {
          "output_type": "execute_result",
          "data": {
            "text/plain": [
              "['J', 'P', 'R', 'O', 'F', 'J', 'S', 'T', 'U', 'D', 'M', 'S', 'T', 'U', 'D']"
            ]
          },
          "metadata": {},
          "execution_count": 83
        }
      ]
    },
    {
      "cell_type": "markdown",
      "source": [
        "이는 우리가 원하는 결과가 아닙니다. 이 경우, 여러가지 방법이 있겠지만 대문자가 연속적으로 4번 등장하는 경우로 조건을 추가해봅시다."
      ],
      "metadata": {
        "id": "P6XmS56KxXuS"
      }
    },
    {
      "cell_type": "code",
      "source": [
        "re.findall('[A-Z]{4}', text)"
      ],
      "metadata": {
        "colab": {
          "base_uri": "https://localhost:8080/"
        },
        "id": "_uWLM7DLxZXu",
        "outputId": "c689c316-1699-4580-aad0-750da7917bfc"
      },
      "execution_count": null,
      "outputs": [
        {
          "output_type": "execute_result",
          "data": {
            "text/plain": [
              "['PROF', 'STUD', 'STUD']"
            ]
          },
          "metadata": {},
          "execution_count": 85
        }
      ]
    },
    {
      "cell_type": "markdown",
      "source": [
        "대문자로 구성된 문자열들을 제대로 가져오는 것을 볼 수 있습니다. 이름의 경우에는 대문자와 소문자가 섞여있는 상황입니다. 이름에 대한 행의 값을 갖고오고 싶다면 처음에 대문자가 등장하고, 그 후에 소문자가 여러번 등장하는 경우에 매치하게 합니다."
      ],
      "metadata": {
        "id": "ELqkr_18xhH4"
      }
    },
    {
      "cell_type": "code",
      "source": [
        "re.findall('[A-Z][a-z]+', text)"
      ],
      "metadata": {
        "colab": {
          "base_uri": "https://localhost:8080/"
        },
        "id": "2C-KV0u7xhru",
        "outputId": "b3bf105e-3af5-42cb-9714-718a8420ca63"
      },
      "execution_count": null,
      "outputs": [
        {
          "output_type": "execute_result",
          "data": {
            "text/plain": [
              "['John', 'James', 'Mac']"
            ]
          },
          "metadata": {},
          "execution_count": 86
        }
      ]
    },
    {
      "cell_type": "markdown",
      "source": [
        "<br/><br/>\n",
        "## 5. 정규 표현식을 이용한 토큰화"
      ],
      "metadata": {
        "id": "9nsAzlxzxkz9"
      }
    },
    {
      "cell_type": "markdown",
      "source": [
        "NLTK에서는 정규 표현식을 사용해서 단어 토큰화를 수행하는 RegexpTokenizer를 지원합니다. RegexpTokenizer()에서 괄호 안에 원하는 정규 표현식을 넣어서 토큰화를 수행하는 것입니다.  "
      ],
      "metadata": {
        "id": "Czs4_49pxrgk"
      }
    },
    {
      "cell_type": "code",
      "source": [
        "from nltk.tokenize import RegexpTokenizer\n",
        "tokenizer = RegexpTokenizer(\"[\\w]+\")\n",
        "print(tokenizer.tokenize(\"Don't be fooled by the dark sounding name, Mr. Jone's Orphanage is as cheery as cheery goes for a pastry shop\"))"
      ],
      "metadata": {
        "colab": {
          "base_uri": "https://localhost:8080/"
        },
        "id": "-KLHxPaPx0D1",
        "outputId": "164600bc-897d-4c53-8020-8534e06b8fd5"
      },
      "execution_count": null,
      "outputs": [
        {
          "output_type": "stream",
          "name": "stdout",
          "text": [
            "['Don', 't', 'be', 'fooled', 'by', 'the', 'dark', 'sounding', 'name', 'Mr', 'Jone', 's', 'Orphanage', 'is', 'as', 'cheery', 'as', 'cheery', 'goes', 'for', 'a', 'pastry', 'shop']\n"
          ]
        }
      ]
    },
    {
      "cell_type": "markdown",
      "source": [
        "tokenizer=RegexpTokenizer(\"[\\w]+\")에서 \\+는 문자 또는 숫자가 1개 이상인 경우를 인식하는 코드입니다. 그렇기 때문에 이 코드는 문장에서 구두점을 제외하고, 단어들만을 가지고 토큰화를 수행합니다."
      ],
      "metadata": {
        "id": "27CJtE1tyAlE"
      }
    },
    {
      "cell_type": "markdown",
      "source": [
        "RegexpTokenizer()에서 괄호 안에 토큰으로 원하는 정규 표현식을 넣어서 사용한다고 언급하였습니다. 그런데 괄호 안에 토큰을 나누기 위한 기준을 입력할 수도 있습니다. 이번에는 공백을 기준으로 문장을 토큰화해보도록 하겠습니다."
      ],
      "metadata": {
        "id": "Vg7PuQhDyOxo"
      }
    },
    {
      "cell_type": "code",
      "source": [
        "from nltk.tokenize import RegexpTokenizer\n",
        "tokenizer = RegexpTokenizer(\"\\s+\", gaps=True)\n",
        "print(tokenizer.tokenize(\"Don't be fooled by the dark sounding name, Mr. Jone's Orphanage is as cheery as cheery goes for a pastry shop\"))"
      ],
      "metadata": {
        "colab": {
          "base_uri": "https://localhost:8080/"
        },
        "id": "EvXjqHGcyPgF",
        "outputId": "5d2d8ddb-a58e-4761-ebae-4cf71c16da48"
      },
      "execution_count": null,
      "outputs": [
        {
          "output_type": "stream",
          "name": "stdout",
          "text": [
            "[\"Don't\", 'be', 'fooled', 'by', 'the', 'dark', 'sounding', 'name,', 'Mr.', \"Jone's\", 'Orphanage', 'is', 'as', 'cheery', 'as', 'cheery', 'goes', 'for', 'a', 'pastry', 'shop']\n"
          ]
        }
      ]
    },
    {
      "cell_type": "markdown",
      "source": [
        "위 코드에서 gaps=true는 해당 정규 표현식을 토큰으로 나누기 위한 기준으로 사용한다는 의미입니다. 만약 gaps=True라는 부분을 기재하지 않는다면, 토큰화의 결과는 공백들만 나오게 됩니다. 이번에는 위의 예제와는 달리 아포스트로피나 온점을 제외하지 않고, 토큰화가 수행된 것을 확인할 수 있습니다."
      ],
      "metadata": {
        "id": "4-yokfOSyYP_"
      }
    },
    {
      "cell_type": "code",
      "source": [
        ""
      ],
      "metadata": {
        "id": "uaJqQrMFybel"
      },
      "execution_count": null,
      "outputs": []
    }
  ]
}