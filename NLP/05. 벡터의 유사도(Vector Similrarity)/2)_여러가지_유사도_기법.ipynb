{
  "nbformat": 4,
  "nbformat_minor": 0,
  "metadata": {
    "colab": {
      "name": "2) 여러가지 유사도 기법.ipynb",
      "provenance": [],
      "collapsed_sections": [],
      "authorship_tag": "ABX9TyOr3I6oDbcg7clv9/JcQ7bO",
      "include_colab_link": true
    },
    "kernelspec": {
      "name": "python3",
      "display_name": "Python 3"
    },
    "language_info": {
      "name": "python"
    }
  },
  "cells": [
    {
      "cell_type": "markdown",
      "metadata": {
        "id": "view-in-github",
        "colab_type": "text"
      },
      "source": [
        "<a href=\"https://colab.research.google.com/github/2pterons/training/blob/main/NLP/05.%20%EB%B2%A1%ED%84%B0%EC%9D%98%20%EC%9C%A0%EC%82%AC%EB%8F%84(Vector%20Similrarity)/2)_%EC%97%AC%EB%9F%AC%EA%B0%80%EC%A7%80_%EC%9C%A0%EC%82%AC%EB%8F%84_%EA%B8%B0%EB%B2%95.ipynb\" target=\"_parent\"><img src=\"https://colab.research.google.com/assets/colab-badge.svg\" alt=\"Open In Colab\"/></a>"
      ]
    },
    {
      "cell_type": "code",
      "execution_count": null,
      "metadata": {
        "id": "KNa3vbjep2im"
      },
      "outputs": [],
      "source": [
        ""
      ]
    },
    {
      "cell_type": "markdown",
      "source": [
        "# 딥 러닝을 이용한 자연어 처리 입문\n",
        "https://wikidocs.net/24654"
      ],
      "metadata": {
        "id": "XUkiomo8p8Wy"
      }
    },
    {
      "cell_type": "markdown",
      "source": [
        "# 2) 여러가지 유사도 기법"
      ],
      "metadata": {
        "id": "EMdCVciRp8ki"
      }
    },
    {
      "cell_type": "markdown",
      "source": [
        "문서의 유사도를 구하기 위한 방법으로는 코사인 유사도 외에도 여러가지 방법들이 있습니다. 여기서는 문서의 유사도를 구할 수 있는 다른 방법들을 학습합니다.\n",
        "\n"
      ],
      "metadata": {
        "id": "0s64TjnNqBFc"
      }
    },
    {
      "cell_type": "markdown",
      "source": [
        "### 1. 유클리드 거리(Euclidean distance)\n"
      ],
      "metadata": {
        "id": "jOpXsVmOqDl4"
      }
    },
    {
      "cell_type": "markdown",
      "source": [
        "유클리드 거리(euclidean distance)는 문서의 유사도를 구할 때 자카드 유사도나 코사인 유사도만큼, 유용한 방법은 아닙니다. 하지만 여러 가지 방법을 이해하고, 시도해보는 것 자체만으로 다른 개념들을 이해할 때 도움이 되므로 의미가 있습니다.\n",
        "\n",
        "다차원 공간에서 두개의 점 ___p___와 ___q___가 각각 ___p = (p1,p2,p3,...,pn)___과 ___q = (q1,q2,q3,...,qn)의 좌표를 가질 때 두 점 사이의 거리를 계산하는 유클리드 거리 공식은 다음과 같습니다.  \n",
        "  \n",
        "$$\\sqrt{(q_{1}-p_{1})^{2}+(q_{2}-p_{2})^{2}+\\ ...\\ +(q_{n}-p_{n})^{2}}=\\sqrt{\\sum_{i=1}^{n}(q_{i}-p_{i})^{2}}$$\n",
        "  \n",
        "다차원 공간이라고 가정하면, 처음 보는 입장에서는 식이 너무 복잡해보입니다. 좀 더 쉽게 이해하기위해서 2차원 공간이라고 가정하고 두 점 사이의 거리를 좌표 평면 상에서 시각화해보겠습니다.\n"
      ],
      "metadata": {
        "id": "a74Za1NJqvzk"
      }
    },
    {
      "cell_type": "markdown",
      "source": [
        "![image.png](data:image/png;base64,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)"
      ],
      "metadata": {
        "id": "P-mhdbc9rbh9"
      }
    },
    {
      "cell_type": "markdown",
      "source": [
        "\n",
        "\n",
        "\n",
        "2차원 좌표 평면 상에서 두 점 와 사이의 직선 거리를 구하는 문제입니다. 위의 경우에는 직각 삼각형으로 표현이 가능하므로, 중학교 수학 과정인 피타고라스의 정리를 통해 와  사이의 거리를 계산할 수 있습니다. 즉, 2차원 좌표 평면에서 두 점 사이의 유클리드 거리 공식은 피타고라스의 정리를 통해 두 점 사이의 거리를 구하는 것과 동일합니다.\n",
        "\n",
        "다시 원점으로 돌아가서 여러 문서에 대해서 유사도를 구하고자 유클리드 거리 공식을 사용한다는 것은, 앞서 본 2차원을 단어의 총 개수만큼의 차원으로 확장하는 것과 같습니다. 예를 들어 아래와 같은 DTM이 있다고 합시다.\n",
        "\n",
        "```\n",
        "  -\t바나나\t사과\t저는\t좋아요\n",
        "문서1\t2\t    3\t    0\t    1\n",
        "문서2\t1\t    2\t    3\t    1\n",
        "문서3\t2\t    1\t    2    \t2\n",
        "```\n",
        "  \n",
        "단어의 개수가 4개이므로, 이는 4차원 공간에 문서1, 문서2, 문서3을 배치하는 것과 같습니다. 이때 다음과 같은 문서Q에 대해서 문서1, 문서2, 문서3 중 가장 유사한 문서를 찾아내고자 합니다.  \n",
        "  \n",
        "```\n",
        "  -\t바나나\t사과\t저는\t좋아요\n",
        "문서Q\t1\t    1    \t0    \t1 \n",
        "```\n",
        "  \n",
        "이때 유클리드 거리를 통해 유사도를 구하려고 한다면, 문서Q 또한 다른 문서들처럼 4차원 공간에 배치시켰다는 관점에서 4차원 공간에서의 각각의 문서들과의 유클리드 거리를 구하면 됩니다. 이를 파이썬 코드로 구현해보겠습니다."
      ],
      "metadata": {
        "id": "59-_p80lrabt"
      }
    },
    {
      "cell_type": "code",
      "source": [
        "import numpy as np\n",
        "\n",
        "def dist(x,y):\n",
        "  return np.sqrt(np.sum((x-y)**2))\n",
        "\n",
        "doc1 = np.array((2,3,0,1))\n",
        "doc2 = np.array((1,2,3,1))\n",
        "doc3 = np.array((2,1,2,2))\n",
        "docQ = np.array((1,1,0,1))\n",
        "\n",
        "print('문서1과 문서Q의 거리 :', dist(doc1, docQ))\n",
        "print('문서2과 문서Q의 거리 :', dist(doc2, docQ))\n",
        "print('문서3과 문서Q의 거리 :', dist(doc3, docQ))"
      ],
      "metadata": {
        "colab": {
          "base_uri": "https://localhost:8080/"
        },
        "id": "GKGVRDLXr0Cr",
        "outputId": "67ad2248-081d-4fab-cfd5-2f8f5dec363a"
      },
      "execution_count": null,
      "outputs": [
        {
          "output_type": "stream",
          "name": "stdout",
          "text": [
            "문서1과 문서Q의 거리 : 2.23606797749979\n",
            "문서2과 문서Q의 거리 : 3.1622776601683795\n",
            "문서3과 문서Q의 거리 : 2.449489742783178\n"
          ]
        }
      ]
    },
    {
      "cell_type": "markdown",
      "source": [
        "유클리드 거리의 값이 가장 작다는 것은 문서 간 거리가 가장 가깝다는 것을 의미합니다. 즉, 문서1이 문서Q와 가장 유사하다고 볼 수 있습니다."
      ],
      "metadata": {
        "id": "Dk5pqCZSuD88"
      }
    },
    {
      "cell_type": "markdown",
      "source": [
        "## 2. 자카드 유사도(Jccard similarity) "
      ],
      "metadata": {
        "id": "R47AiNu0vpZK"
      }
    },
    {
      "cell_type": "markdown",
      "source": [
        "A와 B 두개의 집합이 있다고 합시다. 이때 교집합은 두 개의 집합에서 공통으로 가지고 있는 원소들의 집합을 말합니다. 즉, 합집합에서 교집합의 비율을 구한다면 두 집합 A와 B의 유사도를 구할 수 있다는 것이 자카드 유사도(jaccard similarity)의 아이디어입니다. 자카드 유사도는 0과 1사이의 값을 가지며, 만약 두 집합이 동일하다면 1의 값을 가지고, 두 집합의 공통 원소가 없다면 0의 값을 갖습니다. 자카드 유사도를 구하는 함수를 ___J___라고 하였을 때, 자카드 유사도 함수 ___J___는 아래와 같습니다.  \n",
        "  \n",
        "$$J(A,B)=\\frac{|A∩B|}{|A∪B|}=\\frac{|A∩B|}{|A|+|B|-|A∩B|}$$\n",
        "두 개의 비교할 문서를 각각 ___doc1___과 ___doc2___의 문서의 유사도를 구하기 위한 자카드 유사도는 이와 같습니다.  \n",
        "$$J(doc_{1},doc_{2})=\\frac{doc_{1}∩doc_{2}}{doc_{1}∪doc_{2}}$$\n",
        "  \n",
        "두 문서 ___doc1___, ___doc2___ 사이의 자카드 유사도 $$J(doc_{1},doc_{2})$$는 두 집합의 교집합 크기를 두 집합의 합집합 크기로 나눈 값으로 정의됩니다. 간단한 예를 통해서 이해해보겠습니다.  \n"
      ],
      "metadata": {
        "id": "y2gxeWArvvwN"
      }
    },
    {
      "cell_type": "code",
      "source": [
        "doc1 = \"apple banana everyone like likey watch card holder\"\n",
        "doc2 = \"apple banana coupon passport love you\"\n",
        "\n",
        "# 토큰화\n",
        "tokenized_doc1 = doc1.split()\n",
        "tokenized_doc2 = doc2.split()\n",
        "\n",
        "print('문서1 :', tokenized_doc1)\n",
        "print('문서2 :', tokenized_doc2)"
      ],
      "metadata": {
        "colab": {
          "base_uri": "https://localhost:8080/"
        },
        "id": "u4SBdVDQv4_-",
        "outputId": "1c635caa-8c31-472c-833e-eb4382cbd6e6"
      },
      "execution_count": null,
      "outputs": [
        {
          "output_type": "stream",
          "name": "stdout",
          "text": [
            "문서1 : ['apple', 'banana', 'everyone', 'like', 'likey', 'watch', 'card', 'holder']\n",
            "문서2 : ['apple', 'banana', 'coupon', 'passport', 'love', 'you']\n"
          ]
        }
      ]
    },
    {
      "cell_type": "code",
      "source": [
        "\n",
        "doc1 = \"apple banana everyone like likey watch card holder\"\n",
        "doc2 = \"apple banana coupon passport love you\"\n",
        "\n",
        "tokenized_doc1 = doc1.split()\n",
        "tokenized_doc2 = doc2.split()\n",
        "\n",
        "print('문서1 :', tokenized_doc1)\n",
        "print('문서2 :', tokenized_doc2)"
      ],
      "metadata": {
        "colab": {
          "base_uri": "https://localhost:8080/"
        },
        "id": "HSP29rROxaRX",
        "outputId": "b36b6136-cdc4-48e4-94c3-174d98fc9aa2"
      },
      "execution_count": null,
      "outputs": [
        {
          "output_type": "stream",
          "name": "stdout",
          "text": [
            "문서1 : ['apple', 'banana', 'everyone', 'like', 'likey', 'watch', 'card', 'holder']\n",
            "문서2 : ['apple', 'banana', 'coupon', 'passport', 'love', 'you']\n"
          ]
        }
      ]
    },
    {
      "cell_type": "markdown",
      "source": [
        "문서1과 문서2의 합집합을 구해보겠습니다."
      ],
      "metadata": {
        "id": "ZMampBW-xTOZ"
      }
    },
    {
      "cell_type": "code",
      "source": [
        "union = set(tokenized_doc1).union(set(tokenized_doc2))\n",
        "print('문서1과 문서2의 합집합 :', union)"
      ],
      "metadata": {
        "colab": {
          "base_uri": "https://localhost:8080/"
        },
        "id": "luG6g5WDxglP",
        "outputId": "acc80548-e2b5-4294-f34e-0952d51bc0bc"
      },
      "execution_count": null,
      "outputs": [
        {
          "output_type": "stream",
          "name": "stdout",
          "text": [
            "문서1과 문서2의 합집합 : {'like', 'holder', 'you', 'card', 'love', 'banana', 'watch', 'coupon', 'likey', 'everyone', 'apple', 'passport'}\n"
          ]
        }
      ]
    },
    {
      "cell_type": "markdown",
      "source": [
        "문서1과 문서2의 합집합의 단어의 총 개수는 12개입니다. 이제 문서1과 문서2의 교집합을 구해보겠습니다. 문서1과 문서2에서 둘 다 등장한 단어를 찾으면 됩니다."
      ],
      "metadata": {
        "id": "4UC5kEu6xq-q"
      }
    },
    {
      "cell_type": "code",
      "source": [
        "intersection = set(tokenized_doc1).intersection(set(tokenized_doc2))\n",
        "print('문서1과 문서2의 교집합 :', intersection)"
      ],
      "metadata": {
        "colab": {
          "base_uri": "https://localhost:8080/"
        },
        "id": "gqEoLnyqx4tL",
        "outputId": "67dc7b26-fa8b-47d7-a763-e8de344dbcb0"
      },
      "execution_count": null,
      "outputs": [
        {
          "output_type": "stream",
          "name": "stdout",
          "text": [
            "문서1과 문서2의 교집합 : {'banana', 'apple'}\n"
          ]
        }
      ]
    },
    {
      "cell_type": "markdown",
      "source": [
        "문서1과 문서2에서 둘 다 등장한 단어는 banana와 apple 총 2개입니다. 이제 교집합의 크기를 합집합의 크기로 나누면 자카드 유사도가 계산됩니다."
      ],
      "metadata": {
        "id": "SkjFz2aqx_rf"
      }
    },
    {
      "cell_type": "code",
      "source": [
        "print('자카드 유사도 :', len(intersection)/len(union))"
      ],
      "metadata": {
        "colab": {
          "base_uri": "https://localhost:8080/"
        },
        "id": "_5U0a7PHyIGw",
        "outputId": "cd923c12-215b-44f9-f895-a501599eb213"
      },
      "execution_count": null,
      "outputs": [
        {
          "output_type": "stream",
          "name": "stdout",
          "text": [
            "자카드 유사도 : 0.16666666666666666\n"
          ]
        }
      ]
    },
    {
      "cell_type": "code",
      "source": [
        ""
      ],
      "metadata": {
        "id": "hVk0lUfIyL9a"
      },
      "execution_count": null,
      "outputs": []
    }
  ]
}