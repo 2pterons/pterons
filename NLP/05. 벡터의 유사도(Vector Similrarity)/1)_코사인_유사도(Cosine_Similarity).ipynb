{
  "nbformat": 4,
  "nbformat_minor": 0,
  "metadata": {
    "colab": {
      "name": "1) 코사인 유사도(Cosine Similarity).ipynb",
      "provenance": [],
      "collapsed_sections": [],
      "mount_file_id": "1O63k0HidMGjILx8Vfb6G7zcEcNFQGKDD",
      "authorship_tag": "ABX9TyOsp/xUvNRDHOOSyz7Yt7Vf",
      "include_colab_link": true
    },
    "kernelspec": {
      "name": "python3",
      "display_name": "Python 3"
    },
    "language_info": {
      "name": "python"
    }
  },
  "cells": [
    {
      "cell_type": "markdown",
      "metadata": {
        "id": "view-in-github",
        "colab_type": "text"
      },
      "source": [
        "<a href=\"https://colab.research.google.com/github/2pterons/training/blob/main/NLP/05.%20%EB%B2%A1%ED%84%B0%EC%9D%98%20%EC%9C%A0%EC%82%AC%EB%8F%84(Vector%20Similrarity)/1)_%EC%BD%94%EC%82%AC%EC%9D%B8_%EC%9C%A0%EC%82%AC%EB%8F%84(Cosine_Similarity).ipynb\" target=\"_parent\"><img src=\"https://colab.research.google.com/assets/colab-badge.svg\" alt=\"Open In Colab\"/></a>"
      ]
    },
    {
      "cell_type": "markdown",
      "source": [
        "# 딥 러닝을 이용한 자연어 처리 입문\n",
        "https://wikidocs.net/24603"
      ],
      "metadata": {
        "id": "bLpupYBA7q1f"
      }
    },
    {
      "cell_type": "markdown",
      "source": [
        "# 1) 코사인 유사도(Cosine Similarity)\n"
      ],
      "metadata": {
        "id": "Z6Lfqdjh72OJ"
      }
    },
    {
      "cell_type": "markdown",
      "source": [
        "BoW에 기반한 단어 표현 방법인 DTM, TF-IDF, 또는 뒤에서 배우게 될 Word2Vec 등과 같이 단어를 수치화할 수 있는 방법을 이해했다면 이러한 표현 방법에 대해서 코사인 유사도를 이용하여 문서의 유사도를 구하는 게 가능합니다."
      ],
      "metadata": {
        "id": "BP54lrUQ77SA"
      }
    },
    {
      "cell_type": "markdown",
      "source": [
        "## 1. 코사인 유사도(Cosine Similarity)"
      ],
      "metadata": {
        "id": "qSuTwX2t7oMe"
      }
    },
    {
      "cell_type": "markdown",
      "source": [
        "코사인 유사도는 두 벡터 간의 코사인 각도를 이용하여 구할 수 있는 두 벡터의 유사도를 의미합니다. 두 벡터의 방향이 완전히 동일한 경우에는 1의 값을 가지며, 90°의 각을 이루면 0, 180°로 반대의 방향을 가지면 -1의 값을 갖게 됩니다. 즉, 결국 코사인 유사도는 -1 이상 1 이하의 값을 가지며 값이 1에 가까울수록 유사도가 높다고 판단할 수 있습니다. 이를 직관적으로 이해하면 두 벡터가 가리키는 방향이 얼마나 유사한가를 의미합니다."
      ],
      "metadata": {
        "id": "3N0t9ZIO79I7"
      }
    },
    {
      "cell_type": "markdown",
      "source": [
        "![image.png](data:image/png;base64,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)"
      ],
      "metadata": {
        "id": "mWUUzELl75xC"
      }
    },
    {
      "cell_type": "markdown",
      "source": [
        "두 벡터 A, B에 대해서 코사인 유사도는 식으로 표현하면 다음과 같습니다.  \n",
        "  \n",
        "  \n",
        "$$similarity=cos(Θ)=\\frac{A⋅B}{||A||\\ ||B||}=\\frac{\\sum_{i=1}^{n}{A_{i}×B_{i}}}{\\sqrt{\\sum_{i=1}^{n}(A_{i})^2}×\\sqrt{\\sum_{i=1}^{n}(B_{i})^2}}$$\n",
        " \n",
        "  \n",
        "문서 단어 행렬이나 TF-IDF 행렬을 통해서 문서의 유사도를 구하는 경우에는 문서 단어 행렬이나 TF-IDF 행렬이 각각의 특징 벡터 A, B가 됩니다. 예시를 통해 문서 단어 행렬에 대해서 코사인 유사도를 구해봅시다.  \n",
        "  \n",
        "문서1 : 저는 사과 좋아요  \n",
        "문서2 : 저는 바나나 좋아요  \n",
        "문서3 : 저는 바나나 좋아요 저는 바나나 좋아요  \n",
        "  \n",
        "뛰어쓰기 기준 토큰화를 진행했다고 가정하고, 위의 세 문서에 대해서 문서 단어 행렬을 만들면 이와 같습니다.\n",
        "\n",
        "  \n",
        "```\n",
        "  -\t  바나나\t사과\t저는\t좋아요\n",
        "문서1\t   0\t   1\t   1\t    1\n",
        "문서2\t   1\t   0\t   1\t    1\n",
        "문서3\t   2\t   0\t   2\t    2\n",
        "```\n",
        "  \n",
        "Numpy를 사용해서 코사인 유사도를 계산하는 함수를 구현하고 각 문서 벡터 간의 코사인 유사도를 계산해보겠습니다."
      ],
      "metadata": {
        "id": "y5j0gqun7_Xx"
      }
    },
    {
      "cell_type": "code",
      "source": [
        "import numpy as np\n",
        "from numpy import dot\n",
        "from numpy.linalg import norm\n",
        "\n",
        "def cos_sim(A, B):\n",
        "  return dot(A, B)/(norm(A)*norm(B))\n",
        "\n",
        "doc1 = np.array([0,1,1,1])\n",
        "doc2 = np.array([1,0,1,1])\n",
        "doc3 = np.array([2,0,2,2])\n",
        "\n",
        "print('문서 1과 문서2의 유사도 :', cos_sim(doc1, doc2))\n",
        "print('문서 1과 문서3의 유사도 :', cos_sim(doc1, doc3))\n",
        "print('문서 2와 문서3의 유사도 :', cos_sim(doc2, doc3))\n"
      ],
      "metadata": {
        "colab": {
          "base_uri": "https://localhost:8080/"
        },
        "id": "ekm-QdGc8Hhl",
        "outputId": "13a4a690-5197-4647-8484-3c644aef90b8"
      },
      "execution_count": 4,
      "outputs": [
        {
          "output_type": "stream",
          "name": "stdout",
          "text": [
            "문서 1과 문서2의 유사도 : 0.6666666666666667\n",
            "문서 1과 문서3의 유사도 : 0.6666666666666667\n",
            "문서 2와 문서3의 유사도 : 1.0000000000000002\n"
          ]
        }
      ]
    },
    {
      "cell_type": "markdown",
      "source": [
        "눈여겨볼만한 점은 문서1과 문서2의 코사인 유사도와 문서1과 문서3의 코사인 유사도가 같다는 점과 문서2와 문서3의 코사인 유사도가 1이 나온다는 것입니다.  \n",
        "앞서 1은 두 벡터의 방향이 완전히 동일한 경우에 1이 나오며, 코사인 유사도 관점에서는 유사도의 값이 최대임을 의미한다고 언급한 바 있습니다.  \n",
        "  \n",
        "문서3은 문서2에서 단지 모든 단어의 빈도수가 1씩 증가했을 뿐입니다. 다시 말해 한 문서 내의 모든 단어의 빈도수가 동일하게 증가하는 경우에는 기존의 문서와 코사인 유사도의 값이 1이라는 것입니다. 이것이 시사하는 점은 무엇일까요?  \n",
        "예를 들어보겠습니다. 문서 A와 B가 동일한 주제의 문서. 문서 C는 다른 주제의 문서라고 해봅시다. 그리고 문서 A와 문서 C의 문서의 길이는 거의 차이가 나지 않지만, 문서 B의 경우 문서 A의 길이보다 두 배의 길이를 가진다고 가정하겠습니다. 이런 경우 ___유클리드 거리___로 유사도를 연산하면 문서 A가 문서 B보다 문서 C와 유사도가 더 높게 나오는 상황이 발생할 수 있습니다. 이는 유사도 연산에 문서의 길이가 영향을 받았기 때문인데, 이런 경우 ___코사인 유사도가 해결책___이 될 수 있습니다. 코사인 유사도는 유사도를 구할 때 ___벡터의 방향(패턴)___에 초점을 두므로 코사인 유사도는 ___문서의 길이가 다른 상황에서 비교적 공정___한 비교를 할 수 있도록 도와줍니다."
      ],
      "metadata": {
        "id": "IS8a4ICi8uXj"
      }
    },
    {
      "cell_type": "markdown",
      "source": [
        "## 2. 유사도를 이용한 추천 시스템 구현하기"
      ],
      "metadata": {
        "id": "jhYU19569hKc"
      }
    },
    {
      "cell_type": "markdown",
      "source": [
        "캐글에서 사용되었던 영화 데이터셋을 가지고 영화 추천 시스템을 만들어보겠습니다. TF-IDF와 코사인 유사도만으로 영화의 줄거리에 기반해서 영화를 추천하는 추천 시스템을 만들 수 있습니다.\n",
        "\n",
        "다운로드 링크 : https://www.kaggle.com/rounakbanik/the-movies-dataset\n",
        "\n",
        "원본 파일은 위 링크에서 movies_metadata.csv 파일을 다운로드 받으면 됩니다. 해당 데이터는 총 24개의 열을 가진 45,466개의 샘플로 구성된 영화 정보 데이터입니다."
      ],
      "metadata": {
        "id": "myqaV2JqAmDz"
      }
    },
    {
      "cell_type": "markdown",
      "source": [
        "다운로드 받은 훈련 데이터에서 상위 2개의 샘플만 출력하여 데이터의 형식을 확인합니다."
      ],
      "metadata": {
        "id": "bomgYVvuB8Rm"
      }
    },
    {
      "cell_type": "code",
      "source": [
        "import pandas as pd\n",
        "from sklearn.feature_extraction.text import TfidfVectorizer\n",
        "from sklearn.metrics.pairwise import cosine_similarity\n",
        "\n",
        "data = pd.read_csv('/content/drive/MyDrive/Training/data/movies_metadata.csv', low_memory=False)\n",
        "data.head(2)"
      ],
      "metadata": {
        "colab": {
          "base_uri": "https://localhost:8080/",
          "height": 367
        },
        "id": "f1GesnApAo2z",
        "outputId": "a0c087b2-bae3-4313-dff6-0be6e49b3a03"
      },
      "execution_count": 12,
      "outputs": [
        {
          "output_type": "execute_result",
          "data": {
            "text/html": [
              "\n",
              "  <div id=\"df-82cb5e1c-c2f6-42f3-b7b7-246f446d3fa1\">\n",
              "    <div class=\"colab-df-container\">\n",
              "      <div>\n",
              "<style scoped>\n",
              "    .dataframe tbody tr th:only-of-type {\n",
              "        vertical-align: middle;\n",
              "    }\n",
              "\n",
              "    .dataframe tbody tr th {\n",
              "        vertical-align: top;\n",
              "    }\n",
              "\n",
              "    .dataframe thead th {\n",
              "        text-align: right;\n",
              "    }\n",
              "</style>\n",
              "<table border=\"1\" class=\"dataframe\">\n",
              "  <thead>\n",
              "    <tr style=\"text-align: right;\">\n",
              "      <th></th>\n",
              "      <th>adult</th>\n",
              "      <th>belongs_to_collection</th>\n",
              "      <th>budget</th>\n",
              "      <th>genres</th>\n",
              "      <th>homepage</th>\n",
              "      <th>id</th>\n",
              "      <th>imdb_id</th>\n",
              "      <th>original_language</th>\n",
              "      <th>original_title</th>\n",
              "      <th>overview</th>\n",
              "      <th>popularity</th>\n",
              "      <th>poster_path</th>\n",
              "      <th>production_companies</th>\n",
              "      <th>production_countries</th>\n",
              "      <th>release_date</th>\n",
              "      <th>revenue</th>\n",
              "      <th>runtime</th>\n",
              "      <th>spoken_languages</th>\n",
              "      <th>status</th>\n",
              "      <th>tagline</th>\n",
              "      <th>title</th>\n",
              "      <th>video</th>\n",
              "      <th>vote_average</th>\n",
              "      <th>vote_count</th>\n",
              "    </tr>\n",
              "  </thead>\n",
              "  <tbody>\n",
              "    <tr>\n",
              "      <th>0</th>\n",
              "      <td>False</td>\n",
              "      <td>{'id': 10194, 'name': 'Toy Story Collection', ...</td>\n",
              "      <td>30000000</td>\n",
              "      <td>[{'id': 16, 'name': 'Animation'}, {'id': 35, '...</td>\n",
              "      <td>http://toystory.disney.com/toy-story</td>\n",
              "      <td>862</td>\n",
              "      <td>tt0114709</td>\n",
              "      <td>en</td>\n",
              "      <td>Toy Story</td>\n",
              "      <td>Led by Woody, Andy's toys live happily in his ...</td>\n",
              "      <td>21.946943</td>\n",
              "      <td>/rhIRbceoE9lR4veEXuwCC2wARtG.jpg</td>\n",
              "      <td>[{'name': 'Pixar Animation Studios', 'id': 3}]</td>\n",
              "      <td>[{'iso_3166_1': 'US', 'name': 'United States o...</td>\n",
              "      <td>1995-10-30</td>\n",
              "      <td>373554033.0</td>\n",
              "      <td>81.0</td>\n",
              "      <td>[{'iso_639_1': 'en', 'name': 'English'}]</td>\n",
              "      <td>Released</td>\n",
              "      <td>NaN</td>\n",
              "      <td>Toy Story</td>\n",
              "      <td>False</td>\n",
              "      <td>7.7</td>\n",
              "      <td>5415.0</td>\n",
              "    </tr>\n",
              "    <tr>\n",
              "      <th>1</th>\n",
              "      <td>False</td>\n",
              "      <td>NaN</td>\n",
              "      <td>65000000</td>\n",
              "      <td>[{'id': 12, 'name': 'Adventure'}, {'id': 14, '...</td>\n",
              "      <td>NaN</td>\n",
              "      <td>8844</td>\n",
              "      <td>tt0113497</td>\n",
              "      <td>en</td>\n",
              "      <td>Jumanji</td>\n",
              "      <td>When siblings Judy and Peter discover an encha...</td>\n",
              "      <td>17.015539</td>\n",
              "      <td>/vzmL6fP7aPKNKPRTFnZmiUfciyV.jpg</td>\n",
              "      <td>[{'name': 'TriStar Pictures', 'id': 559}, {'na...</td>\n",
              "      <td>[{'iso_3166_1': 'US', 'name': 'United States o...</td>\n",
              "      <td>1995-12-15</td>\n",
              "      <td>262797249.0</td>\n",
              "      <td>104.0</td>\n",
              "      <td>[{'iso_639_1': 'en', 'name': 'English'}, {'iso...</td>\n",
              "      <td>Released</td>\n",
              "      <td>Roll the dice and unleash the excitement!</td>\n",
              "      <td>Jumanji</td>\n",
              "      <td>False</td>\n",
              "      <td>6.9</td>\n",
              "      <td>2413.0</td>\n",
              "    </tr>\n",
              "  </tbody>\n",
              "</table>\n",
              "</div>\n",
              "      <button class=\"colab-df-convert\" onclick=\"convertToInteractive('df-82cb5e1c-c2f6-42f3-b7b7-246f446d3fa1')\"\n",
              "              title=\"Convert this dataframe to an interactive table.\"\n",
              "              style=\"display:none;\">\n",
              "        \n",
              "  <svg xmlns=\"http://www.w3.org/2000/svg\" height=\"24px\"viewBox=\"0 0 24 24\"\n",
              "       width=\"24px\">\n",
              "    <path d=\"M0 0h24v24H0V0z\" fill=\"none\"/>\n",
              "    <path d=\"M18.56 5.44l.94 2.06.94-2.06 2.06-.94-2.06-.94-.94-2.06-.94 2.06-2.06.94zm-11 1L8.5 8.5l.94-2.06 2.06-.94-2.06-.94L8.5 2.5l-.94 2.06-2.06.94zm10 10l.94 2.06.94-2.06 2.06-.94-2.06-.94-.94-2.06-.94 2.06-2.06.94z\"/><path d=\"M17.41 7.96l-1.37-1.37c-.4-.4-.92-.59-1.43-.59-.52 0-1.04.2-1.43.59L10.3 9.45l-7.72 7.72c-.78.78-.78 2.05 0 2.83L4 21.41c.39.39.9.59 1.41.59.51 0 1.02-.2 1.41-.59l7.78-7.78 2.81-2.81c.8-.78.8-2.07 0-2.86zM5.41 20L4 18.59l7.72-7.72 1.47 1.35L5.41 20z\"/>\n",
              "  </svg>\n",
              "      </button>\n",
              "      \n",
              "  <style>\n",
              "    .colab-df-container {\n",
              "      display:flex;\n",
              "      flex-wrap:wrap;\n",
              "      gap: 12px;\n",
              "    }\n",
              "\n",
              "    .colab-df-convert {\n",
              "      background-color: #E8F0FE;\n",
              "      border: none;\n",
              "      border-radius: 50%;\n",
              "      cursor: pointer;\n",
              "      display: none;\n",
              "      fill: #1967D2;\n",
              "      height: 32px;\n",
              "      padding: 0 0 0 0;\n",
              "      width: 32px;\n",
              "    }\n",
              "\n",
              "    .colab-df-convert:hover {\n",
              "      background-color: #E2EBFA;\n",
              "      box-shadow: 0px 1px 2px rgba(60, 64, 67, 0.3), 0px 1px 3px 1px rgba(60, 64, 67, 0.15);\n",
              "      fill: #174EA6;\n",
              "    }\n",
              "\n",
              "    [theme=dark] .colab-df-convert {\n",
              "      background-color: #3B4455;\n",
              "      fill: #D2E3FC;\n",
              "    }\n",
              "\n",
              "    [theme=dark] .colab-df-convert:hover {\n",
              "      background-color: #434B5C;\n",
              "      box-shadow: 0px 1px 3px 1px rgba(0, 0, 0, 0.15);\n",
              "      filter: drop-shadow(0px 1px 2px rgba(0, 0, 0, 0.3));\n",
              "      fill: #FFFFFF;\n",
              "    }\n",
              "  </style>\n",
              "\n",
              "      <script>\n",
              "        const buttonEl =\n",
              "          document.querySelector('#df-82cb5e1c-c2f6-42f3-b7b7-246f446d3fa1 button.colab-df-convert');\n",
              "        buttonEl.style.display =\n",
              "          google.colab.kernel.accessAllowed ? 'block' : 'none';\n",
              "\n",
              "        async function convertToInteractive(key) {\n",
              "          const element = document.querySelector('#df-82cb5e1c-c2f6-42f3-b7b7-246f446d3fa1');\n",
              "          const dataTable =\n",
              "            await google.colab.kernel.invokeFunction('convertToInteractive',\n",
              "                                                     [key], {});\n",
              "          if (!dataTable) return;\n",
              "\n",
              "          const docLinkHtml = 'Like what you see? Visit the ' +\n",
              "            '<a target=\"_blank\" href=https://colab.research.google.com/notebooks/data_table.ipynb>data table notebook</a>'\n",
              "            + ' to learn more about interactive tables.';\n",
              "          element.innerHTML = '';\n",
              "          dataTable['output_type'] = 'display_data';\n",
              "          await google.colab.output.renderOutput(dataTable, element);\n",
              "          const docLink = document.createElement('div');\n",
              "          docLink.innerHTML = docLinkHtml;\n",
              "          element.appendChild(docLink);\n",
              "        }\n",
              "      </script>\n",
              "    </div>\n",
              "  </div>\n",
              "  "
            ],
            "text/plain": [
              "   adult  ... vote_count\n",
              "0  False  ...     5415.0\n",
              "1  False  ...     2413.0\n",
              "\n",
              "[2 rows x 24 columns]"
            ]
          },
          "metadata": {},
          "execution_count": 12
        }
      ]
    },
    {
      "cell_type": "markdown",
      "source": [
        "훈련 데이터는 총 24개의 열을 갖고있으나 책의 지면의 한계로 일부 생략합니다. 여기서 코사인 유사도에 사용할 데이터는 영화 제목에 해당하는 title 열과 줄거리에 해당하는 overview 열입니다. 좋아하는 영화를 입력하면, ___해당 영화의 줄거리와 유사한 줄거리___의 영화를 찾아서 추천하는 시스템을 만들 것입니다."
      ],
      "metadata": {
        "id": "gjh4qLeIB_Aj"
      }
    },
    {
      "cell_type": "code",
      "source": [
        "# 상위 2만개의 샘플을 data에 저장\n",
        "data = data.head(20000)"
      ],
      "metadata": {
        "id": "AnAh3mqwBxO7"
      },
      "execution_count": 16,
      "outputs": []
    },
    {
      "cell_type": "markdown",
      "source": [
        "만약 훈련 데이터의 양을 줄이고 학습을 진행하고자 한다면 위와 같이 데이터를 줄여서 재저장할 수 있습니다. 여기서는 상위 20,000개의 샘플만 사용하겠습니다. TF-IDF를 연산할 때 데이터에 Null 값이 들어있으면 에러가 발생합니다. TF-IDF의 대상이 되는 data의 overview 열에 결측값에 해당하는 Null 값이 있는지 확인합니다."
      ],
      "metadata": {
        "id": "uX84OQMPB3aE"
      }
    },
    {
      "cell_type": "code",
      "source": [
        "# overview 열에 존재하는 모든 결측값을 전부 카운트하여 출력\n",
        "print('overview 열의 결측값의 수 :', data['overview'].isnull().sum())"
      ],
      "metadata": {
        "colab": {
          "base_uri": "https://localhost:8080/"
        },
        "id": "Np-oB0LMCTs6",
        "outputId": "dde871ed-8c7e-4407-daef-440c96a1968b"
      },
      "execution_count": 17,
      "outputs": [
        {
          "output_type": "stream",
          "name": "stdout",
          "text": [
            "overview 열의 결측값의 수 : 135\n"
          ]
        }
      ]
    },
    {
      "cell_type": "markdown",
      "source": [
        "135개의 Null 값이 있다고 합니다. 이 경우 결측값을 가진 행을 제거하는 pandas의 dropna()나 결측값이 있던 행에 특정값으로 채워넣는 pandas의 fillna()를 사용할 수 있습니다. 괄호 안에 Null 대신 넣고자하는 값을 넣으면 되는데, 여기서는 빈 값(empty value)으로 대체하였습니다."
      ],
      "metadata": {
        "id": "b3MhmdHTCfgu"
      }
    },
    {
      "cell_type": "code",
      "source": [
        "# 결측값을 빈 값으로 대체\n",
        "data['overview'] = data['overview'].fillna('')"
      ],
      "metadata": {
        "id": "nsdtie5tCc5W"
      },
      "execution_count": 18,
      "outputs": []
    },
    {
      "cell_type": "markdown",
      "source": [
        "Null 값을 빈 값으로 대체하였습니다. overview열에 대해서 TF-IDF 행렬을 구한 후 행렬의 크기를 출력해봅시다."
      ],
      "metadata": {
        "id": "2vl49xCVCl9g"
      }
    },
    {
      "cell_type": "code",
      "source": [
        "tfidf = TfidfVectorizer(stop_words='english')\n",
        "tfidf_matrix = tfidf.fit_transform(data['overview'])\n",
        "print('TF-IDF 행렬의 크기(shape) :', tfidf_matrix.shape)"
      ],
      "metadata": {
        "colab": {
          "base_uri": "https://localhost:8080/"
        },
        "id": "YJtnstVnCnui",
        "outputId": "03d1e842-2e91-4703-e632-7ee89db01e79"
      },
      "execution_count": 33,
      "outputs": [
        {
          "output_type": "stream",
          "name": "stdout",
          "text": [
            "TF-IDF 행렬의 크기(shape) : (20000, 47487)\n"
          ]
        }
      ]
    },
    {
      "cell_type": "markdown",
      "source": [
        "TF-IDF 행렬의 크기는 20,000의 행을 가지고 47,847의 열을 가지는 행렬입니다. 다시 말해 20,000개의 영화를 표현하기 위해서 총 47,487개의 단어가 사용되었음을 의미합니다. 또는 47,847차원의 문서 벡터가 20,000개가 존재한다고도 표현할 수 있을 겁니다. 이제 20,000개의 문서 벡터에 대해서 상호 간의 코사인 유사도를 구합니다."
      ],
      "metadata": {
        "id": "vJhJXwAICzR6"
      }
    },
    {
      "cell_type": "code",
      "source": [
        "cosine_sim = cosine_similarity(tfidf_matrix, tfidf_matrix)\n",
        "print('코사인 유사도 연산 결과 :', cosine_sim.shape)"
      ],
      "metadata": {
        "colab": {
          "base_uri": "https://localhost:8080/"
        },
        "id": "0h1IleH4C6ye",
        "outputId": "a435cd8b-7a27-472d-9969-12d40a883bf5"
      },
      "execution_count": 23,
      "outputs": [
        {
          "output_type": "stream",
          "name": "stdout",
          "text": [
            "코사인 유사도 연산 결과 : (20000, 20000)\n"
          ]
        }
      ]
    },
    {
      "cell_type": "markdown",
      "source": [
        "코사인 유사도 연산 결과로는 20,000행 20,000열의 행렬을 얻습니다. 이는 20,000개의 각 문서 벡터(영화 줄거리 벡터)와 자기 자신을 포함한 20,000개의 문서 벡터 간의 유사도가 기록된 행렬입니다. 모든 20,000개 영화의 상호 유사도가 기록되어져 있습니다. 이제 기존 데이터프레임으로부터 영화의 타이틀을 key, 영화의 인덱스를 value로 하는 딕셔너리 title_to_index를 만들어둡니다."
      ],
      "metadata": {
        "id": "BCiMXcreDSdd"
      }
    },
    {
      "cell_type": "code",
      "source": [
        "title_to_index = dict(zip(data['title'], data.index))\n",
        "\n",
        "# 영화 제목 Father of the bride Part II의 인덱스를 리턴\n",
        "idx = title_to_index['Father of the Bride Part II']\n",
        "print(idx)"
      ],
      "metadata": {
        "colab": {
          "base_uri": "https://localhost:8080/"
        },
        "id": "My8nyt9mEaL3",
        "outputId": "45a07c56-ec27-4716-e201-0fe4c0d111f9"
      },
      "execution_count": 37,
      "outputs": [
        {
          "output_type": "stream",
          "name": "stdout",
          "text": [
            "4\n"
          ]
        }
      ]
    },
    {
      "cell_type": "markdown",
      "source": [
        "선택한 영화의 제목을 입력하면 코사인 유사도를 통해 가장 overview가 유사한 10개의 영화를 찾아내는 함수를 만듭니다."
      ],
      "metadata": {
        "id": "PRR27CdkEsGr"
      }
    },
    {
      "cell_type": "code",
      "source": [
        "def get_recommendations(title, cosine_sim=cosine_sim):\n",
        "  # 선택한 영화의 타이틀로부터 해당 영화의 인덱스를 받아온다.\n",
        "  idx = title_to_index[title]\n",
        "  \n",
        "  # 해당 영화와 모든 영화와의 유사도를 가져온다.\n",
        "  sim_scores = list(enumerate(cosine_sim[idx]))\n",
        "\n",
        "  # 유사도에 따라 영화들을 정렬한다.\n",
        "  sim_scores = sorted(sim_scores, key=lambda x: x[1], reverse=True)\n",
        "\n",
        "  # 가장 유사한 10개의 영화를 받아온다.\n",
        "  sim_scores = sim_scores[1:11]\n",
        "\n",
        "  # 가장 유사한 10개의 영화의 인덱스를 얻는다.\n",
        "  movie_indices = [idx[0] for idx in sim_scores]\n",
        "\n",
        "  # 가장 유사한 10개의 영화의 제목을 리턴한다.\n",
        "  return data['title'].iloc[movie_indices]"
      ],
      "metadata": {
        "id": "Ym7XJvQ4EsTe"
      },
      "execution_count": 38,
      "outputs": []
    },
    {
      "cell_type": "markdown",
      "source": [
        "영화 다크 나이트 라이즈와 overview가 유사한 영화들을 찾아보겠습니다."
      ],
      "metadata": {
        "id": "0UZ3FuMWGj07"
      }
    },
    {
      "cell_type": "code",
      "source": [
        "get_recommendations('The Dark Knight Rises')"
      ],
      "metadata": {
        "colab": {
          "base_uri": "https://localhost:8080/"
        },
        "id": "THjpS1xAGnAj",
        "outputId": "73a07108-eb05-491e-cfbe-47f703029e98"
      },
      "execution_count": 39,
      "outputs": [
        {
          "output_type": "execute_result",
          "data": {
            "text/plain": [
              "12481                            The Dark Knight\n",
              "150                               Batman Forever\n",
              "1328                              Batman Returns\n",
              "15511                 Batman: Under the Red Hood\n",
              "585                                       Batman\n",
              "9230          Batman Beyond: Return of the Joker\n",
              "18035                           Batman: Year One\n",
              "19792    Batman: The Dark Knight Returns, Part 1\n",
              "3095                Batman: Mask of the Phantasm\n",
              "10122                              Batman Begins\n",
              "Name: title, dtype: object"
            ]
          },
          "metadata": {},
          "execution_count": 39
        }
      ]
    },
    {
      "cell_type": "markdown",
      "source": [
        "가장 유사한 영화가 출력되는데, 영화 다크 나이트가 첫번째고, 그 외에도 전부 배트맨 영화를 찾아낸 것을 확인할 수 있습니다.  \n",
        "  \n",
        "<hr/>\n",
        "Colab link : https://colab.research.google.com/drive/11XBPmK4m2ZKM0-Ae6i8I0yPvbTrceraF?usp=sharing\n",
        "\n"
      ],
      "metadata": {
        "id": "qBEls_xfGqM7"
      }
    },
    {
      "cell_type": "markdown",
      "source": [
        "<br/><br/>\n",
        "## 복습을 위한 테스트"
      ],
      "metadata": {
        "id": "ZBSti4-5JPpn"
      }
    },
    {
      "cell_type": "code",
      "source": [
        "# TEST\n",
        "import pandas as pd\n",
        "import numpy as np\n",
        "from sklearn.feature_extraction.text import TfidfVectorizer\n",
        "from sklearn.metrics.pairwise import cosine_similarity\n",
        "\n",
        "data = pd.read_csv('/content/drive/MyDrive/Training/data/movies_metadata.csv', low_memory=False )\n",
        "# low_memory 파라미터 : 각 컬럼의 데이터 타입(dtype) 추측 유/무 -> 메모리 차지가 크므로 False를 하면 에러의 확률이 줄어든다.\n",
        "\n",
        "data = data.head(20000)"
      ],
      "metadata": {
        "id": "60Sh0dMdGwVA"
      },
      "execution_count": 56,
      "outputs": []
    },
    {
      "cell_type": "code",
      "source": [
        "# 사용할 컬럼의 결측지 확인 및 제거\n",
        "print('확인 :', data['overview'].isnull().sum())\n",
        "\n",
        "# 결측치 빈값으로 대체\n",
        "data['overview'] = data['overview'].fillna('')\n",
        "\n",
        "# 대체 확인\n",
        "print('대체값 확인 :', data['overview'].isnull().sum())"
      ],
      "metadata": {
        "colab": {
          "base_uri": "https://localhost:8080/"
        },
        "id": "Ddr69EP0G7st",
        "outputId": "0b31b437-cd7e-4a2f-fb23-d06482fd22b6"
      },
      "execution_count": 57,
      "outputs": [
        {
          "output_type": "stream",
          "name": "stdout",
          "text": [
            "확인 : 135\n",
            "대체값 확인 : 0\n"
          ]
        }
      ]
    },
    {
      "cell_type": "code",
      "source": [
        "tfidf = TfidfVectorizer() # 특징 추출?\n",
        "tfidf_metrix = tfidf.fit_transform(data['overview'])\n",
        "tfidf_metrix.shape"
      ],
      "metadata": {
        "colab": {
          "base_uri": "https://localhost:8080/"
        },
        "id": "Tohny8B4IFtd",
        "outputId": "2b887484-29f3-4892-c45e-add2e8b64aeb"
      },
      "execution_count": 58,
      "outputs": [
        {
          "output_type": "execute_result",
          "data": {
            "text/plain": [
              "(20000, 47788)"
            ]
          },
          "metadata": {},
          "execution_count": 58
        }
      ]
    },
    {
      "cell_type": "code",
      "source": [
        "# 코사인 유사도 연산\n",
        "cosine_sim = cosine_similarity(tfidf_matrix, tfidf_matrix) # 여기가 잘 이해가 안된다...\n",
        "cosine_sim.shape"
      ],
      "metadata": {
        "colab": {
          "base_uri": "https://localhost:8080/"
        },
        "id": "7d7uQW-mIn9C",
        "outputId": "53e5ee6c-ad58-4da4-b14f-8eea6189db1f"
      },
      "execution_count": 59,
      "outputs": [
        {
          "output_type": "execute_result",
          "data": {
            "text/plain": [
              "(20000, 20000)"
            ]
          },
          "metadata": {},
          "execution_count": 59
        }
      ]
    },
    {
      "cell_type": "code",
      "source": [
        ""
      ],
      "metadata": {
        "id": "snVus9xQJMee"
      },
      "execution_count": null,
      "outputs": []
    },
    {
      "cell_type": "markdown",
      "source": [
        ""
      ],
      "metadata": {
        "id": "cuKUDqmhJi-0"
      }
    },
    {
      "cell_type": "code",
      "source": [
        ""
      ],
      "metadata": {
        "id": "iPftr312Jvac"
      },
      "execution_count": null,
      "outputs": []
    }
  ]
}