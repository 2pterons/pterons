{
  "nbformat": 4,
  "nbformat_minor": 0,
  "metadata": {
    "colab": {
      "name": "3) 레벤슈타인 거리.ipynb",
      "provenance": [],
      "collapsed_sections": [],
      "authorship_tag": "ABX9TyPtBfcjn3LP6AcHPDvXX8+s",
      "include_colab_link": true
    },
    "kernelspec": {
      "name": "python3",
      "display_name": "Python 3"
    },
    "language_info": {
      "name": "python"
    }
  },
  "cells": [
    {
      "cell_type": "markdown",
      "metadata": {
        "id": "view-in-github",
        "colab_type": "text"
      },
      "source": [
        "<a href=\"https://colab.research.google.com/github/2pterons/training/blob/main/NLP/05.%20%EB%B2%A1%ED%84%B0%EC%9D%98%20%EC%9C%A0%EC%82%AC%EB%8F%84(Vector%20Similrarity)/3)_%EB%A0%88%EB%B2%A4%EC%8A%88%ED%83%80%EC%9D%B8_%EA%B1%B0%EB%A6%AC.ipynb\" target=\"_parent\"><img src=\"https://colab.research.google.com/assets/colab-badge.svg\" alt=\"Open In Colab\"/></a>"
      ]
    },
    {
      "cell_type": "markdown",
      "source": [
        "# 레벤슈타인 거리"
      ],
      "metadata": {
        "id": "GFlAxwy42olT"
      }
    },
    {
      "cell_type": "markdown",
      "source": [
        "## | 레벤슈타인 거리란?\n"
      ],
      "metadata": {
        "id": "SkChdFvgy4Jn"
      }
    },
    {
      "cell_type": "markdown",
      "source": [
        "레벤슈타인 거리는 문자열이 얼마나 비슷한 지를 나타내는 것으로 편집 거리라고도 부른다. 비슷한 어구 검색, DNA 배열의 유사성 판단 등 다양한 분야에서 활용된다.  \n",
        "편집할 때 몇 번의 문자열 조작이 필요한지를 계산해 편집 거리를 구한다.  \n",
        "예시로 살펴보자면 hat과 here의 편집거리는 3이다. hat을 here이라는 문자열로 바꾸려면 a를 e로, t를 r로 수정하고 e를 추가해야한다. 물론 hat을 here로 바꾸는 방법은 매우 다양하다. 하지만 레벤슈타인 거리는 hat에서 here로 편집할 때 필요한 문자열 조작 횟수 중에서 가장 최솟값을 말한다. \n",
        "  \n",
        "그러면 파이썬으로 레벤슈타인 거리를 구하는 프로그램을 만들어보자\n"
      ],
      "metadata": {
        "id": "cSC6Hr14y0sy"
      }
    },
    {
      "cell_type": "markdown",
      "source": [
        "### 실습1 - 레벤슈타인 거리 구하는 프로그램\n"
      ],
      "metadata": {
        "id": "YY_bPWb7zaSv"
      }
    },
    {
      "cell_type": "code",
      "source": [
        "#레벤슈타인 거리 구하기\n",
        "def calc_distance(a, b):\n",
        "    #레벤슈타인 거리 계산\n",
        "    if a==b: return 0   #문자열이 동일하면 레벤슈타인 거리는 0\n",
        "    a_len=len(a)  \n",
        "    b_len=len(b)\n",
        "    if a==\"\" : return b_len #문자열 a가 공집합인 경우 레벤슈타인 거리는 b_len 만큼\n",
        "    if b==\"\" : return a_len #문자열 b가 공집합인 경우 레벤슈타인 거리는 a_len 만큼\n",
        "\n",
        "    #2차원 표 (a_len+1, b_len+1) 준비하기 => 비교를 공집합부터 시작하기 때문에 '문자열 길이+1'크기의 표를 준비\n",
        "    matrix=[[] for i in range(a_len+1)]\n",
        "    for i in range(a_len+1): #0으로 초기화\n",
        "        matrix[i]=[0 for j in range(b_len+1)]\n",
        "    \n",
        "    #0일 때 초깃값을 설정. 첫번째 행, 첫번째 열을 문자열 길이로 초기화\n",
        "    for i in range(a_len+1): \n",
        "        matrix[i][0]=i\n",
        "    for j in range(b_len+1):\n",
        "        matrix[0][j]=j\n",
        "    \n",
        "    #표 채우기\n",
        "    for i in range(1, a_len+1):\n",
        "        ac=a[i-1] #비교할 문자 세팅\n",
        "        for j in range(1, b_len+1):\n",
        "            bc=b[j-1] #비교할 문자 세팅\n",
        "            cost=0 if (ac==bc) else 1  #비교하는 문자가 같으면 cost가 0, 다르면 1\n",
        "            matrix[i][j]=min([\n",
        "                matrix[i-1][j]+1, #문자 삽입 \n",
        "                matrix[i][j-1]+1, #문자 제거\n",
        "                matrix[i-1][j-1]+cost #문자 변경\n",
        "            ])\n",
        "    \n",
        "    return matrix[a_len][b_len]\n",
        "\n",
        "\n",
        "#\"가나다라\"와 \"가마바라\"의 거리\n",
        "print(calc_distance(\"가나다라\", \"가마바라\"))\n",
        "\n",
        "#실행 예\n",
        "samples=[\"신촌역\", \"신천군\", \"신천역\", \"신발\", \"마곡역\"]\n",
        "base=samples[0]\n",
        "r=sorted(samples, key=lambda  n: calc_distance(base, n))\n",
        "for n in r :\n",
        "    print(calc_distance(base, n), n)"
      ],
      "metadata": {
        "colab": {
          "base_uri": "https://localhost:8080/"
        },
        "id": "7_ChVqYdzdNd",
        "outputId": "390a54b0-5bd5-495b-8f02-9ec9334195ef"
      },
      "execution_count": null,
      "outputs": [
        {
          "output_type": "stream",
          "name": "stdout",
          "text": [
            "2\n",
            "0 신촌역\n",
            "1 신천역\n",
            "2 신천군\n",
            "2 신발\n",
            "2 마곡역\n"
          ]
        }
      ]
    },
    {
      "cell_type": "markdown",
      "source": [
        "첫번째 줄은 \"가나다라\"와 \"가마바라\"의 레벤슈타인 거리다.\n",
        "\n",
        "두번째 줄부터는 신촌역을 기준으로 잡고 다른 문자열과 레벤슈타인 거리를 구한 결과다.\n",
        "\n",
        " \n",
        "\n",
        "프로그램의 동작 과정을 살펴보자.\n",
        "\n",
        "1. 레벤슈타인 거리를 구하기 위해 2차원의 표를 만든다.\n",
        "\n",
        "2. 첫행, 첫열은 문자열의 길이로 초기화해준다.\n",
        "\n",
        "3. 표에서 빨간 부분을 채울 때,\n",
        "\n",
        "노랑+1 : 문자 삽입\n",
        "\n",
        "초록 + cost : 문자 변경. cost값은 비교하는 문자가 같으면 0 아니면 1이다.\n",
        "\n",
        "파랑 +1 : 문자 삭제 \n",
        "\n",
        "이 3가지 값 중에서 최솟값이 빨간 부분에 들어가는 것이다. \n",
        "\n",
        "이 경우에는 최솟값이 0이다. 초록 부분이 0이고, cost값은 비교하는 문자가 둘 다 '가'로 동일하기 때문에 0이다.\n",
        "\n",
        "따라서 빨간 부분의 값은 0이다. \n",
        "\n",
        " \n",
        "\n",
        "이렇게 계속 값을 채워나가서 마지막열, 마지막 행 부분인 회색 부분이 최종적인 레벤슈타인 거리가 된다."
      ],
      "metadata": {
        "id": "B_8jThfw1U-9"
      }
    },
    {
      "cell_type": "markdown",
      "source": [
        "```\n",
        "\n",
        " \t -\t가\t나\t다\t라\n",
        " \t 0\t1\t 2\t 3\t 4\n",
        "가\t1\t \t \t \t \n",
        "마\t2\t \t \t \t \n",
        "바\t3\t \t \t \t \n",
        "라\t4\t \t \t \t \n",
        " \n",
        "```\n",
        " \n",
        "\n",
        "표를 모두 채우면 다음과 같다.\n",
        "\n",
        "```\n",
        " \t- \t가\t나\t다\t라\n",
        " \t 0\t 1\t 2\t 3\t4\n",
        "가\t1\t 0\t 1\t 2\t3\n",
        "마\t2\t 1\t 1\t 2\t3\n",
        "바\t3\t 2\t 2\t 2\t3\n",
        "라\t4\t 3\t 3\t 3\t2\n",
        "```\n",
        "따라서 '가나다라'와 '가마바라'의 레벤슈타인 거리는 2다."
      ],
      "metadata": {
        "id": "X-maKsYj12J6"
      }
    },
    {
      "cell_type": "markdown",
      "source": [
        "## 보너스) N-gram이란?\n"
      ],
      "metadata": {
        "id": "t-sEZkHR14fV"
      }
    },
    {
      "cell_type": "markdown",
      "source": [
        "\n",
        "N-gram은 문자열의 유사도를 분석하는 또 다른 방법이다. \n",
        "\n",
        "문자열을 n개의 단위로 끊어서 토큰을 생성한다. n개의 단위는 문자 n개, 단어 n개 등 사용자가 원하는 기준을 사용해 n-gram 모델을 만들면 된다.\n",
        "  \n",
        "```\n",
        "앞으로 가자.\n",
        "\n",
        "뒤로 가자.\n",
        "```\n",
        "  \n",
        "두 문장을 문자 3개 단위로 끊어서 토큰을 생성하면 다음과 같이 나타낼 수 있다.\n",
        "\n",
        "['앞으로', '으로 ', '로 가', ' 가자', '가자.']\n",
        "\n",
        "['뒤로 ', '로 가', ' 가자', '가자.']\n",
        "\n",
        "실습 2의 방법으로 유사도를 분석하면 두 문장의 유사도는 0.6이다.\n",
        "\n",
        " "
      ],
      "metadata": {
        "id": "Y5XpRFbg18b1"
      }
    },
    {
      "cell_type": "markdown",
      "source": [
        "### 실습2 - ngram 사용해서 유사도 분석"
      ],
      "metadata": {
        "id": "LmKTAACN2wUC"
      }
    },
    {
      "cell_type": "code",
      "source": [
        "#n-gram 어휘 벡터 생성\n",
        "def ngram(s, num): \n",
        "    res=[]\n",
        "    slen=len(s)-num+1\n",
        "    for i in range(slen):\n",
        "        ss=s[i:i+num]\n",
        "        res.append(ss)\n",
        "    return res\n",
        "\n",
        "#유사도 분석(빈도를 활용해서)\n",
        "def diff_ngram(sa, sb, num):\n",
        "    a=ngram(sa, num)\n",
        "    b=ngram(sb, num)\n",
        "    r=[]\n",
        "    cnt=0\n",
        "    for i in a:\n",
        "        for j in b:\n",
        "            if i==j:  #a와 b에서 동일한 토큰이 있으면 cnt+1\n",
        "                cnt+=1\n",
        "                r.append(i) #동일한 토큰을 r리스트에 추가\n",
        "    return cnt/len(a),r\n",
        "\n",
        "a=\"오늘 강남에서 맛있는 스파게티를 먹었다.\"\n",
        "b=\"강남에서 먹었던 오늘의 스파게티는 맛있었다.\"\n",
        "\n",
        "\n",
        "#2-gram\n",
        "r2, word2=diff_ngram(a, b, 2)\n",
        "print(\"2-gram:\", r2, word2)\n",
        "\n",
        "#3-gram\n",
        "r3, word3=diff_ngram(a,b,3)\n",
        "print(\"3-gram:\", r3, word3)"
      ],
      "metadata": {
        "colab": {
          "base_uri": "https://localhost:8080/"
        },
        "id": "vC_7TJIG2Aqo",
        "outputId": "ef6d994d-27da-499d-f401-15b9d8324c34"
      },
      "execution_count": null,
      "outputs": [
        {
          "output_type": "stream",
          "name": "stdout",
          "text": [
            "2-gram: 0.7619047619047619 ['오늘', '강남', '남에', '에서', '서 ', ' 맛', '맛있', '는 ', ' 스', '스파', '파게', '게티', ' 먹', '먹었', '었다', '다.']\n",
            "3-gram: 0.45 ['강남에', '남에서', '에서 ', ' 맛있', ' 스파', '스파게', '파게티', ' 먹었', '었다.']\n"
          ]
        }
      ]
    },
    {
      "cell_type": "markdown",
      "source": [
        "결과화면을 보면 유사도와 두 문장에서 동일한 토큰이 무엇인지 출력된다.\n",
        "이 n-gram 모델은 문자를 기준으로 n개씩 토큰을 생성한다. 문장 a와 b의 토큰을 생성하고 같은 토큰이 존재하면 count한뒤 문장 a의 토큰 수로 나누어서 유사도를 분석했다.\n",
        "\n",
        " \n",
        "\n",
        " \n",
        "\n",
        " \n",
        "\n",
        "참고자료\n",
        "\n",
        "실습 : 파이썬을 이용한 머신러닝, 딥러닝 실전 개발 입문_ 쿠지라 히코우즈쿠에 저  \n",
        "\n",
        " \n",
        "\n",
        "https://lovit.github.io/nlp/2018/08/28/levenshtein_hangle/\n",
        "\n"
      ],
      "metadata": {
        "id": "uS5qqFLZ2DHb"
      }
    },
    {
      "cell_type": "code",
      "source": [
        ""
      ],
      "metadata": {
        "id": "J6ar5pnT25kc"
      },
      "execution_count": null,
      "outputs": []
    }
  ]
}